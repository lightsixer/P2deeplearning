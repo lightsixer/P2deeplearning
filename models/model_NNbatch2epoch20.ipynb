{
  "nbformat": 4,
  "nbformat_minor": 0,
  "metadata": {
    "colab": {
      "provenance": [],
      "gpuType": "T4"
    },
    "kernelspec": {
      "name": "python3",
      "display_name": "Python 3"
    },
    "language_info": {
      "name": "python"
    },
    "accelerator": "GPU"
  },
  "cells": [
    {
      "cell_type": "code",
      "source": [
        "!pip install noisereduce"
      ],
      "metadata": {
        "id": "bJwbe6MOi9gG",
        "colab": {
          "base_uri": "https://localhost:8080/"
        },
        "outputId": "1ad51da6-05de-41a9-f92f-21d7bc1212af"
      },
      "execution_count": 142,
      "outputs": [
        {
          "output_type": "stream",
          "name": "stdout",
          "text": [
            "Requirement already satisfied: noisereduce in /usr/local/lib/python3.10/dist-packages (3.0.0)\n",
            "Requirement already satisfied: scipy in /usr/local/lib/python3.10/dist-packages (from noisereduce) (1.11.3)\n",
            "Requirement already satisfied: matplotlib in /usr/local/lib/python3.10/dist-packages (from noisereduce) (3.7.1)\n",
            "Requirement already satisfied: librosa in /usr/local/lib/python3.10/dist-packages (from noisereduce) (0.10.1)\n",
            "Requirement already satisfied: numpy in /usr/local/lib/python3.10/dist-packages (from noisereduce) (1.23.5)\n",
            "Requirement already satisfied: tqdm in /usr/local/lib/python3.10/dist-packages (from noisereduce) (4.66.1)\n",
            "Requirement already satisfied: audioread>=2.1.9 in /usr/local/lib/python3.10/dist-packages (from librosa->noisereduce) (3.0.1)\n",
            "Requirement already satisfied: scikit-learn>=0.20.0 in /usr/local/lib/python3.10/dist-packages (from librosa->noisereduce) (1.2.2)\n",
            "Requirement already satisfied: joblib>=0.14 in /usr/local/lib/python3.10/dist-packages (from librosa->noisereduce) (1.3.2)\n",
            "Requirement already satisfied: decorator>=4.3.0 in /usr/local/lib/python3.10/dist-packages (from librosa->noisereduce) (4.4.2)\n",
            "Requirement already satisfied: numba>=0.51.0 in /usr/local/lib/python3.10/dist-packages (from librosa->noisereduce) (0.58.1)\n",
            "Requirement already satisfied: soundfile>=0.12.1 in /usr/local/lib/python3.10/dist-packages (from librosa->noisereduce) (0.12.1)\n",
            "Requirement already satisfied: pooch>=1.0 in /usr/local/lib/python3.10/dist-packages (from librosa->noisereduce) (1.8.0)\n",
            "Requirement already satisfied: soxr>=0.3.2 in /usr/local/lib/python3.10/dist-packages (from librosa->noisereduce) (0.3.7)\n",
            "Requirement already satisfied: typing-extensions>=4.1.1 in /usr/local/lib/python3.10/dist-packages (from librosa->noisereduce) (4.5.0)\n",
            "Requirement already satisfied: lazy-loader>=0.1 in /usr/local/lib/python3.10/dist-packages (from librosa->noisereduce) (0.3)\n",
            "Requirement already satisfied: msgpack>=1.0 in /usr/local/lib/python3.10/dist-packages (from librosa->noisereduce) (1.0.7)\n",
            "Requirement already satisfied: contourpy>=1.0.1 in /usr/local/lib/python3.10/dist-packages (from matplotlib->noisereduce) (1.2.0)\n",
            "Requirement already satisfied: cycler>=0.10 in /usr/local/lib/python3.10/dist-packages (from matplotlib->noisereduce) (0.12.1)\n",
            "Requirement already satisfied: fonttools>=4.22.0 in /usr/local/lib/python3.10/dist-packages (from matplotlib->noisereduce) (4.44.0)\n",
            "Requirement already satisfied: kiwisolver>=1.0.1 in /usr/local/lib/python3.10/dist-packages (from matplotlib->noisereduce) (1.4.5)\n",
            "Requirement already satisfied: packaging>=20.0 in /usr/local/lib/python3.10/dist-packages (from matplotlib->noisereduce) (23.2)\n",
            "Requirement already satisfied: pillow>=6.2.0 in /usr/local/lib/python3.10/dist-packages (from matplotlib->noisereduce) (9.4.0)\n",
            "Requirement already satisfied: pyparsing>=2.3.1 in /usr/local/lib/python3.10/dist-packages (from matplotlib->noisereduce) (3.1.1)\n",
            "Requirement already satisfied: python-dateutil>=2.7 in /usr/local/lib/python3.10/dist-packages (from matplotlib->noisereduce) (2.8.2)\n",
            "Requirement already satisfied: llvmlite<0.42,>=0.41.0dev0 in /usr/local/lib/python3.10/dist-packages (from numba>=0.51.0->librosa->noisereduce) (0.41.1)\n",
            "Requirement already satisfied: platformdirs>=2.5.0 in /usr/local/lib/python3.10/dist-packages (from pooch>=1.0->librosa->noisereduce) (3.11.0)\n",
            "Requirement already satisfied: requests>=2.19.0 in /usr/local/lib/python3.10/dist-packages (from pooch>=1.0->librosa->noisereduce) (2.31.0)\n",
            "Requirement already satisfied: six>=1.5 in /usr/local/lib/python3.10/dist-packages (from python-dateutil>=2.7->matplotlib->noisereduce) (1.16.0)\n",
            "Requirement already satisfied: threadpoolctl>=2.0.0 in /usr/local/lib/python3.10/dist-packages (from scikit-learn>=0.20.0->librosa->noisereduce) (3.2.0)\n",
            "Requirement already satisfied: cffi>=1.0 in /usr/local/lib/python3.10/dist-packages (from soundfile>=0.12.1->librosa->noisereduce) (1.16.0)\n",
            "Requirement already satisfied: pycparser in /usr/local/lib/python3.10/dist-packages (from cffi>=1.0->soundfile>=0.12.1->librosa->noisereduce) (2.21)\n",
            "Requirement already satisfied: charset-normalizer<4,>=2 in /usr/local/lib/python3.10/dist-packages (from requests>=2.19.0->pooch>=1.0->librosa->noisereduce) (3.3.2)\n",
            "Requirement already satisfied: idna<4,>=2.5 in /usr/local/lib/python3.10/dist-packages (from requests>=2.19.0->pooch>=1.0->librosa->noisereduce) (3.4)\n",
            "Requirement already satisfied: urllib3<3,>=1.21.1 in /usr/local/lib/python3.10/dist-packages (from requests>=2.19.0->pooch>=1.0->librosa->noisereduce) (2.0.7)\n",
            "Requirement already satisfied: certifi>=2017.4.17 in /usr/local/lib/python3.10/dist-packages (from requests>=2.19.0->pooch>=1.0->librosa->noisereduce) (2023.7.22)\n"
          ]
        }
      ]
    },
    {
      "cell_type": "code",
      "source": [
        "from google.colab import drive\n",
        "drive.mount('/content/drive')"
      ],
      "metadata": {
        "colab": {
          "base_uri": "https://localhost:8080/"
        },
        "id": "UYuG83jsjMhe",
        "outputId": "92473e93-1e7a-49c1-8a48-b2c98c1634ea"
      },
      "execution_count": 143,
      "outputs": [
        {
          "output_type": "stream",
          "name": "stdout",
          "text": [
            "Drive already mounted at /content/drive; to attempt to forcibly remount, call drive.mount(\"/content/drive\", force_remount=True).\n"
          ]
        }
      ]
    },
    {
      "cell_type": "code",
      "execution_count": 145,
      "metadata": {
        "id": "vRcN3aEdioi4"
      },
      "outputs": [],
      "source": [
        "import noisereduce as nr\n",
        "import librosa\n",
        "import librosa.display\n",
        "import numpy as np\n",
        "import matplotlib.pyplot as plt\n",
        "from keras.preprocessing.image import ImageDataGenerator"
      ]
    },
    {
      "cell_type": "code",
      "source": [
        "from tensorflow.keras.preprocessing.image import ImageDataGenerator\n",
        "\n",
        "# Define the path to your spectrogram images\n",
        "train_directory = '/content/drive/MyDrive/P2_DeepLearning/birdclef-2023/random10_prep_data/train'\n",
        "validation_directory = '/content/drive/MyDrive/P2_DeepLearning/birdclef-2023/random10_prep_data/test'\n",
        "\n",
        "#train_directory = r'/content/drive/MyDrive/P2_DeepLearning/birdclef-2023.zip (Unzipped Files)/random10_prep_data/train'\n",
        "#validation_directory = r'/content/drive/MyDrive/P2_DeepLearning/birdclef-2023.zip (Unzipped Files)/random10_prep_data/test'\n",
        "\n",
        "#reserved_directory = '/content/drive/MyDrive/P2_DeepLearning/birdclef-2023.zip (Unzipped Files)/random10_prep_data/reserved'\n",
        "\n",
        "batchSize = 2\n",
        "\n",
        "# Image dimensions\n",
        "#img_width, img_height = 884, 322\n",
        "img_width, img_height = 322, 884\n",
        "# Rescale the images by dividing every pixel in every image by 255\n",
        "train_datagen = ImageDataGenerator(rescale=1./255)\n",
        "validation_datagen = ImageDataGenerator(rescale=1./255)\n",
        "reserved_datagen = ImageDataGenerator(rescale=1./255)\n",
        "\n",
        "# Load images from the directory and prepare them for training\n",
        "train_generator = train_datagen.flow_from_directory(\n",
        "    #train_directory,\n",
        "    directory = train_directory,\n",
        "    target_size=(img_height, img_width),\n",
        "    color_mode = \"grayscale\",\n",
        "    batch_size = batchSize,\n",
        "    class_mode='categorical',\n",
        "    shuffle = True,\n",
        "    seed = 91825)\n",
        "\n",
        "validation_generator = validation_datagen.flow_from_directory(\n",
        "    #validation_directory,\n",
        "    directory = validation_directory,\n",
        "    target_size=(img_height, img_width),\n",
        "    color_mode = \"grayscale\",\n",
        "    batch_size = batchSize,\n",
        "    class_mode='categorical',\n",
        "    shuffle = True,\n",
        "    seed = 18232)\n",
        "\n",
        "#reserved_generator = reserved_datagen.flow_from_directory(\n",
        "#    directory = reserved_directory,\n",
        "#    target_size=(img_height, img_width),\n",
        "#    color_mode = \"grayscale\",\n",
        "#    batch_size=16,\n",
        "#    class_mode='categorical',\n",
        "#    shuffle = False)"
      ],
      "metadata": {
        "id": "i8ccaVL2mOch",
        "colab": {
          "base_uri": "https://localhost:8080/"
        },
        "outputId": "2afe0d95-60c3-4ccb-ca99-e218354a7198"
      },
      "execution_count": 147,
      "outputs": [
        {
          "output_type": "stream",
          "name": "stdout",
          "text": [
            "Found 1836 images belonging to 10 classes.\n",
            "Found 572 images belonging to 10 classes.\n"
          ]
        }
      ]
    },
    {
      "cell_type": "code",
      "source": [
        "import tensorflow as tf\n",
        "from tensorflow.keras.models import Sequential\n",
        "from tensorflow.keras.layers import Conv2D, MaxPooling2D, Flatten, Dense, Dropout\n",
        "from tensorflow import keras\n",
        "# Define the CNN model\n",
        "model = Sequential()\n",
        "\n",
        "# Convolutional layer with 32 filters, a kernel size of 3x3, and ReLU activation\n",
        "model.add(Conv2D(32, (3, 3), activation='relu', input_shape=(322, 884, 1) ) )\n",
        "model.add(MaxPooling2D((2, 2)))\n",
        "\n",
        "# Adding another convolutional layer\n",
        "model.add(Conv2D(64, (3, 3), activation='relu'))\n",
        "model.add(MaxPooling2D((5, 5)))\n",
        "\n",
        "model.add(Conv2D(64, (5, 5), activation='relu'))\n",
        "model.add(MaxPooling2D((4, 4)))\n",
        "\n",
        "#Adding dropout layer to control overfitting\n",
        "model.add(Dropout(0.25))\n",
        "# Adding dense softmax layer\n",
        "model.add(Dense(128, activation='softmax'))\n",
        "\n",
        "# Adding layer with tanh acitvation function to improve accuracy\n",
        "model.add(Conv2D(128, (3, 3), activation='tanh'))\n",
        "#varying the size of the max pooling kernel has helepd the model\n",
        "model.add(MaxPooling2D((4, 4)))\n",
        "\n",
        "# Flatten the output of the convolutional layers\n",
        "model.add(Flatten())\n",
        "\n",
        "# Fully connected layer with 128 units and ReLU activation\n",
        "model.add(Dense(128, activation='relu'))\n",
        "\n",
        "#several layers added\n",
        "\n",
        "\n",
        "# Dropout for regularization\n",
        "model.add(Dropout(0.15))\n",
        "\n",
        "# Output layer with a unit for each class and softmax activation\n",
        "model.add(Dense(10, activation='softmax'))\n",
        "\n",
        "# Compile the model\n",
        "\n",
        "opti = keras.optimizers.Adam(lr = 0.02)\n",
        "model.compile(optimizer = opti, #optimizer = 'adam'\n",
        "              loss='categorical_crossentropy',\n",
        "              metrics=['accuracy'])\n",
        "\n",
        "# Model summary\n",
        "model.summary()\n"
      ],
      "metadata": {
        "id": "xgttOyIW0yIS",
        "colab": {
          "base_uri": "https://localhost:8080/"
        },
        "outputId": "b3e62081-1a81-4cce-d99f-975423dabe94"
      },
      "execution_count": 149,
      "outputs": [
        {
          "output_type": "stream",
          "name": "stderr",
          "text": [
            "WARNING:absl:`lr` is deprecated in Keras optimizer, please use `learning_rate` or use the legacy optimizer, e.g.,tf.keras.optimizers.legacy.Adam.\n"
          ]
        },
        {
          "output_type": "stream",
          "name": "stdout",
          "text": [
            "Model: \"sequential_32\"\n",
            "_________________________________________________________________\n",
            " Layer (type)                Output Shape              Param #   \n",
            "=================================================================\n",
            " conv2d_117 (Conv2D)         (None, 320, 882, 32)      320       \n",
            "                                                                 \n",
            " max_pooling2d_111 (MaxPool  (None, 160, 441, 32)      0         \n",
            " ing2D)                                                          \n",
            "                                                                 \n",
            " conv2d_118 (Conv2D)         (None, 158, 439, 64)      18496     \n",
            "                                                                 \n",
            " max_pooling2d_112 (MaxPool  (None, 31, 87, 64)        0         \n",
            " ing2D)                                                          \n",
            "                                                                 \n",
            " conv2d_119 (Conv2D)         (None, 27, 83, 64)        102464    \n",
            "                                                                 \n",
            " max_pooling2d_113 (MaxPool  (None, 6, 20, 64)         0         \n",
            " ing2D)                                                          \n",
            "                                                                 \n",
            " dropout_55 (Dropout)        (None, 6, 20, 64)         0         \n",
            "                                                                 \n",
            " dense_79 (Dense)            (None, 6, 20, 128)        8320      \n",
            "                                                                 \n",
            " conv2d_120 (Conv2D)         (None, 4, 18, 128)        147584    \n",
            "                                                                 \n",
            " max_pooling2d_114 (MaxPool  (None, 1, 4, 128)         0         \n",
            " ing2D)                                                          \n",
            "                                                                 \n",
            " flatten_27 (Flatten)        (None, 512)               0         \n",
            "                                                                 \n",
            " dense_80 (Dense)            (None, 128)               65664     \n",
            "                                                                 \n",
            " dropout_56 (Dropout)        (None, 128)               0         \n",
            "                                                                 \n",
            " dense_81 (Dense)            (None, 10)                1290      \n",
            "                                                                 \n",
            "=================================================================\n",
            "Total params: 344138 (1.31 MB)\n",
            "Trainable params: 344138 (1.31 MB)\n",
            "Non-trainable params: 0 (0.00 Byte)\n",
            "_________________________________________________________________\n"
          ]
        }
      ]
    },
    {
      "cell_type": "code",
      "source": [
        "# Train the model\n",
        "\n",
        "fitModel = model.fit(\n",
        "    train_generator,\n",
        "    steps_per_epoch = train_generator.samples // batchSize,\n",
        "    epochs = 20,\n",
        "    validation_data=validation_generator,\n",
        "    validation_steps=validation_generator.samples // batchSize)\n"
      ],
      "metadata": {
        "id": "ACV1mVyuxcvy",
        "colab": {
          "base_uri": "https://localhost:8080/"
        },
        "outputId": "fa2c51aa-9a11-4baf-bdd9-7329e86b8704"
      },
      "execution_count": 150,
      "outputs": [
        {
          "output_type": "stream",
          "name": "stdout",
          "text": [
            "Epoch 1/20\n",
            "918/918 [==============================] - 38s 38ms/step - loss: 1.1727 - accuracy: 0.6781 - val_loss: 1.1508 - val_accuracy: 0.6416\n",
            "Epoch 2/20\n",
            "918/918 [==============================] - 38s 41ms/step - loss: 0.8139 - accuracy: 0.7456 - val_loss: 1.1763 - val_accuracy: 0.6783\n",
            "Epoch 3/20\n",
            "918/918 [==============================] - 34s 37ms/step - loss: 0.6878 - accuracy: 0.7881 - val_loss: 1.2216 - val_accuracy: 0.6241\n",
            "Epoch 4/20\n",
            "918/918 [==============================] - 34s 37ms/step - loss: 0.6252 - accuracy: 0.7947 - val_loss: 1.2884 - val_accuracy: 0.6958\n",
            "Epoch 5/20\n",
            "918/918 [==============================] - 34s 37ms/step - loss: 0.5425 - accuracy: 0.8230 - val_loss: 1.2782 - val_accuracy: 0.7185\n",
            "Epoch 6/20\n",
            "918/918 [==============================] - 34s 37ms/step - loss: 0.4815 - accuracy: 0.8361 - val_loss: 1.3906 - val_accuracy: 0.6941\n",
            "Epoch 7/20\n",
            "918/918 [==============================] - 34s 37ms/step - loss: 0.4235 - accuracy: 0.8540 - val_loss: 1.4128 - val_accuracy: 0.6661\n",
            "Epoch 8/20\n",
            "918/918 [==============================] - 38s 42ms/step - loss: 0.3717 - accuracy: 0.8682 - val_loss: 1.4152 - val_accuracy: 0.7080\n",
            "Epoch 9/20\n",
            "918/918 [==============================] - 34s 37ms/step - loss: 0.3309 - accuracy: 0.8889 - val_loss: 1.6815 - val_accuracy: 0.7028\n",
            "Epoch 10/20\n",
            "918/918 [==============================] - 34s 37ms/step - loss: 0.3061 - accuracy: 0.8889 - val_loss: 1.3496 - val_accuracy: 0.6801\n",
            "Epoch 11/20\n",
            "918/918 [==============================] - 39s 42ms/step - loss: 0.2146 - accuracy: 0.9237 - val_loss: 1.6641 - val_accuracy: 0.7185\n",
            "Epoch 12/20\n",
            "918/918 [==============================] - 34s 37ms/step - loss: 0.2216 - accuracy: 0.9216 - val_loss: 1.5188 - val_accuracy: 0.7290\n",
            "Epoch 13/20\n",
            "918/918 [==============================] - 34s 37ms/step - loss: 0.1718 - accuracy: 0.9374 - val_loss: 1.6225 - val_accuracy: 0.7220\n",
            "Epoch 14/20\n",
            "918/918 [==============================] - 34s 37ms/step - loss: 0.1388 - accuracy: 0.9537 - val_loss: 1.8502 - val_accuracy: 0.7325\n",
            "Epoch 15/20\n",
            "918/918 [==============================] - 34s 37ms/step - loss: 0.1280 - accuracy: 0.9564 - val_loss: 1.9181 - val_accuracy: 0.7150\n",
            "Epoch 16/20\n",
            "918/918 [==============================] - 34s 37ms/step - loss: 0.1152 - accuracy: 0.9586 - val_loss: 1.9723 - val_accuracy: 0.6941\n",
            "Epoch 17/20\n",
            "918/918 [==============================] - 34s 37ms/step - loss: 0.1131 - accuracy: 0.9608 - val_loss: 1.8907 - val_accuracy: 0.7273\n",
            "Epoch 18/20\n",
            "918/918 [==============================] - 33s 36ms/step - loss: 0.0769 - accuracy: 0.9739 - val_loss: 2.2119 - val_accuracy: 0.6853\n",
            "Epoch 19/20\n",
            "918/918 [==============================] - 34s 36ms/step - loss: 0.1036 - accuracy: 0.9613 - val_loss: 2.1241 - val_accuracy: 0.7325\n",
            "Epoch 20/20\n",
            "918/918 [==============================] - 33s 36ms/step - loss: 0.0713 - accuracy: 0.9749 - val_loss: 2.3331 - val_accuracy: 0.7255\n"
          ]
        }
      ]
    },
    {
      "cell_type": "code",
      "source": [
        "test_directory = '/content/drive/MyDrive/P2_DeepLearning/birdclef-2023/random10_prep_data/test'\n",
        "\n",
        "test_datagen = ImageDataGenerator(rescale=1./255, validation_split = 0.9625)\n",
        "\n",
        "test_generator = test_datagen.flow_from_directory(\n",
        "    directory = test_directory,\n",
        "    target_size=(img_height, img_width),\n",
        "    color_mode = \"grayscale\",\n",
        "    batch_size= batchSize,\n",
        "    class_mode='categorical',\n",
        "    subset = 'validation',\n",
        "    shuffle = False) #since it's test, don't set shuffle to true\n"
      ],
      "metadata": {
        "id": "cbG_fxkm2G_S",
        "colab": {
          "base_uri": "https://localhost:8080/"
        },
        "outputId": "5b8bbac4-5363-4714-b49e-b804758ecdfa"
      },
      "execution_count": 151,
      "outputs": [
        {
          "output_type": "stream",
          "name": "stdout",
          "text": [
            "Found 544 images belonging to 10 classes.\n"
          ]
        }
      ]
    },
    {
      "cell_type": "code",
      "source": [
        "test_loss, test_accuracy = model.evaluate(test_generator, steps=test_generator.samples // batchSize)\n",
        "print(\"Test accuracy:\", test_accuracy)\n",
        "print(\"Test loss:\", test_loss)\n"
      ],
      "metadata": {
        "id": "VUCFS91S2JeV",
        "colab": {
          "base_uri": "https://localhost:8080/"
        },
        "outputId": "b33d6778-2aa1-4873-af93-3476b76d4e20"
      },
      "execution_count": 152,
      "outputs": [
        {
          "output_type": "stream",
          "name": "stdout",
          "text": [
            "272/272 [==============================] - 6s 21ms/step - loss: 2.3776 - accuracy: 0.7243\n",
            "Test accuracy: 0.7242646813392639\n",
            "Test loss: 2.377568483352661\n"
          ]
        }
      ]
    },
    {
      "cell_type": "code",
      "source": [
        "from sklearn.metrics import classification_report, confusion_matrix\n",
        "import random\n",
        "# # Predict classes\n",
        "#predictions = model.predict(test_generator, steps=test_generator.samples // 32)\n",
        "predictions = model.predict(test_generator, steps=test_generator.samples // batchSize)\n",
        "predicted_classes = np.argmax(predictions, axis=1)\n",
        "\n",
        "# # Get true labels\n",
        "#true_classes = random.sample(test_generator.classes, 544)\n",
        "true_classes = test_generator.classes\n",
        "#scores report\n",
        "report = classification_report(true_classes, predicted_classes, target_names=test_generator.class_indices.keys(), zero_division = 0)\n",
        "\n",
        "print(report)\n"
      ],
      "metadata": {
        "id": "86EkQOw62LxV",
        "colab": {
          "base_uri": "https://localhost:8080/"
        },
        "outputId": "3ec3728d-a581-4d5f-d68e-bf025b07e3a1"
      },
      "execution_count": 153,
      "outputs": [
        {
          "output_type": "stream",
          "name": "stdout",
          "text": [
            "272/272 [==============================] - 6s 22ms/step\n",
            "              precision    recall  f1-score   support\n",
            "\n",
            "     afbfly1       0.24      0.21      0.23        28\n",
            "     afdfly1       0.73      0.75      0.74        36\n",
            "     chespa1       0.25      1.00      0.40         1\n",
            "     chewea1       1.00      0.33      0.50         9\n",
            "     grywrw1       0.90      0.76      0.82        49\n",
            "     luebus1       0.71      0.65      0.68        31\n",
            "     nobfly1       0.43      0.26      0.32        35\n",
            "     rocmar2       0.26      0.31      0.28        26\n",
            "     somgre1       0.81      0.91      0.86       304\n",
            "     somtit4       0.42      0.20      0.27        25\n",
            "\n",
            "    accuracy                           0.72       544\n",
            "   macro avg       0.58      0.54      0.51       544\n",
            "weighted avg       0.71      0.72      0.71       544\n",
            "\n"
          ]
        }
      ]
    },
    {
      "cell_type": "code",
      "source": [
        "conf_matrix = confusion_matrix(true_classes, predicted_classes)\n",
        "print(conf_matrix)\n"
      ],
      "metadata": {
        "colab": {
          "base_uri": "https://localhost:8080/"
        },
        "id": "YsAf72HA0ufI",
        "outputId": "008ab091-2185-4a83-8550-138f20eb0f37"
      },
      "execution_count": 154,
      "outputs": [
        {
          "output_type": "stream",
          "name": "stdout",
          "text": [
            "[[  6   0   0   0   1   0   0  12   9   0]\n",
            " [  3  27   0   0   0   0   0   4   2   0]\n",
            " [  0   0   1   0   0   0   0   0   0   0]\n",
            " [  1   0   0   3   0   1   0   0   4   0]\n",
            " [  0   0   0   0  37   0   0   0  10   2]\n",
            " [  1   0   0   0   1  20   0   0   9   0]\n",
            " [  0   4   1   0   0   0   9   4  17   0]\n",
            " [  5   6   1   0   0   1   4   8   0   1]\n",
            " [  8   0   0   0   0   5   6   3 278   4]\n",
            " [  1   0   1   0   2   1   2   0  13   5]]\n"
          ]
        }
      ]
    }
  ]
}