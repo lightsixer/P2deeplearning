{
  "nbformat": 4,
  "nbformat_minor": 0,
  "metadata": {
    "colab": {
      "provenance": []
    },
    "kernelspec": {
      "name": "python3",
      "display_name": "Python 3"
    },
    "language_info": {
      "name": "python"
    }
  },
  "cells": [
    {
      "cell_type": "code",
      "source": [
        "!pip install noisereduce"
      ],
      "metadata": {
        "id": "bJwbe6MOi9gG",
        "colab": {
          "base_uri": "https://localhost:8080/"
        },
        "outputId": "e5ee5582-efb3-48d7-e76f-6d54b83220ab"
      },
      "execution_count": 2,
      "outputs": [
        {
          "output_type": "stream",
          "name": "stdout",
          "text": [
            "Collecting noisereduce\n",
            "  Downloading noisereduce-3.0.0-py3-none-any.whl (22 kB)\n",
            "Requirement already satisfied: scipy in /usr/local/lib/python3.10/dist-packages (from noisereduce) (1.11.3)\n",
            "Requirement already satisfied: matplotlib in /usr/local/lib/python3.10/dist-packages (from noisereduce) (3.7.1)\n",
            "Requirement already satisfied: librosa in /usr/local/lib/python3.10/dist-packages (from noisereduce) (0.10.1)\n",
            "Requirement already satisfied: numpy in /usr/local/lib/python3.10/dist-packages (from noisereduce) (1.23.5)\n",
            "Requirement already satisfied: tqdm in /usr/local/lib/python3.10/dist-packages (from noisereduce) (4.66.1)\n",
            "Requirement already satisfied: audioread>=2.1.9 in /usr/local/lib/python3.10/dist-packages (from librosa->noisereduce) (3.0.1)\n",
            "Requirement already satisfied: scikit-learn>=0.20.0 in /usr/local/lib/python3.10/dist-packages (from librosa->noisereduce) (1.2.2)\n",
            "Requirement already satisfied: joblib>=0.14 in /usr/local/lib/python3.10/dist-packages (from librosa->noisereduce) (1.3.2)\n",
            "Requirement already satisfied: decorator>=4.3.0 in /usr/local/lib/python3.10/dist-packages (from librosa->noisereduce) (4.4.2)\n",
            "Requirement already satisfied: numba>=0.51.0 in /usr/local/lib/python3.10/dist-packages (from librosa->noisereduce) (0.58.1)\n",
            "Requirement already satisfied: soundfile>=0.12.1 in /usr/local/lib/python3.10/dist-packages (from librosa->noisereduce) (0.12.1)\n",
            "Requirement already satisfied: pooch>=1.0 in /usr/local/lib/python3.10/dist-packages (from librosa->noisereduce) (1.8.0)\n",
            "Requirement already satisfied: soxr>=0.3.2 in /usr/local/lib/python3.10/dist-packages (from librosa->noisereduce) (0.3.7)\n",
            "Requirement already satisfied: typing-extensions>=4.1.1 in /usr/local/lib/python3.10/dist-packages (from librosa->noisereduce) (4.5.0)\n",
            "Requirement already satisfied: lazy-loader>=0.1 in /usr/local/lib/python3.10/dist-packages (from librosa->noisereduce) (0.3)\n",
            "Requirement already satisfied: msgpack>=1.0 in /usr/local/lib/python3.10/dist-packages (from librosa->noisereduce) (1.0.7)\n",
            "Requirement already satisfied: contourpy>=1.0.1 in /usr/local/lib/python3.10/dist-packages (from matplotlib->noisereduce) (1.2.0)\n",
            "Requirement already satisfied: cycler>=0.10 in /usr/local/lib/python3.10/dist-packages (from matplotlib->noisereduce) (0.12.1)\n",
            "Requirement already satisfied: fonttools>=4.22.0 in /usr/local/lib/python3.10/dist-packages (from matplotlib->noisereduce) (4.44.0)\n",
            "Requirement already satisfied: kiwisolver>=1.0.1 in /usr/local/lib/python3.10/dist-packages (from matplotlib->noisereduce) (1.4.5)\n",
            "Requirement already satisfied: packaging>=20.0 in /usr/local/lib/python3.10/dist-packages (from matplotlib->noisereduce) (23.2)\n",
            "Requirement already satisfied: pillow>=6.2.0 in /usr/local/lib/python3.10/dist-packages (from matplotlib->noisereduce) (9.4.0)\n",
            "Requirement already satisfied: pyparsing>=2.3.1 in /usr/local/lib/python3.10/dist-packages (from matplotlib->noisereduce) (3.1.1)\n",
            "Requirement already satisfied: python-dateutil>=2.7 in /usr/local/lib/python3.10/dist-packages (from matplotlib->noisereduce) (2.8.2)\n",
            "Requirement already satisfied: llvmlite<0.42,>=0.41.0dev0 in /usr/local/lib/python3.10/dist-packages (from numba>=0.51.0->librosa->noisereduce) (0.41.1)\n",
            "Requirement already satisfied: platformdirs>=2.5.0 in /usr/local/lib/python3.10/dist-packages (from pooch>=1.0->librosa->noisereduce) (3.11.0)\n",
            "Requirement already satisfied: requests>=2.19.0 in /usr/local/lib/python3.10/dist-packages (from pooch>=1.0->librosa->noisereduce) (2.31.0)\n",
            "Requirement already satisfied: six>=1.5 in /usr/local/lib/python3.10/dist-packages (from python-dateutil>=2.7->matplotlib->noisereduce) (1.16.0)\n",
            "Requirement already satisfied: threadpoolctl>=2.0.0 in /usr/local/lib/python3.10/dist-packages (from scikit-learn>=0.20.0->librosa->noisereduce) (3.2.0)\n",
            "Requirement already satisfied: cffi>=1.0 in /usr/local/lib/python3.10/dist-packages (from soundfile>=0.12.1->librosa->noisereduce) (1.16.0)\n",
            "Requirement already satisfied: pycparser in /usr/local/lib/python3.10/dist-packages (from cffi>=1.0->soundfile>=0.12.1->librosa->noisereduce) (2.21)\n",
            "Requirement already satisfied: charset-normalizer<4,>=2 in /usr/local/lib/python3.10/dist-packages (from requests>=2.19.0->pooch>=1.0->librosa->noisereduce) (3.3.2)\n",
            "Requirement already satisfied: idna<4,>=2.5 in /usr/local/lib/python3.10/dist-packages (from requests>=2.19.0->pooch>=1.0->librosa->noisereduce) (3.4)\n",
            "Requirement already satisfied: urllib3<3,>=1.21.1 in /usr/local/lib/python3.10/dist-packages (from requests>=2.19.0->pooch>=1.0->librosa->noisereduce) (2.0.7)\n",
            "Requirement already satisfied: certifi>=2017.4.17 in /usr/local/lib/python3.10/dist-packages (from requests>=2.19.0->pooch>=1.0->librosa->noisereduce) (2023.7.22)\n",
            "Installing collected packages: noisereduce\n",
            "Successfully installed noisereduce-3.0.0\n"
          ]
        }
      ]
    },
    {
      "cell_type": "code",
      "source": [
        "from google.colab import drive\n",
        "drive.mount('/content/drive')"
      ],
      "metadata": {
        "colab": {
          "base_uri": "https://localhost:8080/"
        },
        "id": "UYuG83jsjMhe",
        "outputId": "95f6a56a-9ee9-40e7-8e8b-36e6cc26bceb"
      },
      "execution_count": 3,
      "outputs": [
        {
          "output_type": "stream",
          "name": "stdout",
          "text": [
            "Mounted at /content/drive\n"
          ]
        }
      ]
    },
    {
      "cell_type": "code",
      "execution_count": 4,
      "metadata": {
        "id": "vRcN3aEdioi4"
      },
      "outputs": [],
      "source": [
        "import noisereduce as nr\n",
        "import librosa\n",
        "import librosa.display\n",
        "import numpy as np\n",
        "import matplotlib.pyplot as plt\n",
        "from keras.preprocessing.image import ImageDataGenerator"
      ]
    },
    {
      "cell_type": "code",
      "source": [
        "from tensorflow.keras.preprocessing.image import ImageDataGenerator\n",
        "\n",
        "# Define the path to your spectrogram images\n",
        "train_directory = '/content/drive/MyDrive/P2_DeepLearning/birdclef-2023.zip (Unzipped Files)/random10_prep_data/train'\n",
        "validation_directory = '/content/drive/MyDrive/P2_DeepLearning/birdclef-2023.zip (Unzipped Files)/random10_prep_data/test'\n",
        "\n",
        "#train_directory = r'/content/drive/MyDrive/P2_DeepLearning/birdclef-2023.zip (Unzipped Files)/random10_prep_data/train'\n",
        "#validation_directory = r'/content/drive/MyDrive/P2_DeepLearning/birdclef-2023.zip (Unzipped Files)/random10_prep_data/test'\n",
        "\n",
        "#reserved_directory = '/content/drive/MyDrive/P2_DeepLearning/birdclef-2023.zip (Unzipped Files)/random10_prep_data/reserved'\n",
        "\n",
        "# Image dimensions\n",
        "#img_width, img_height = 884, 322\n",
        "img_width, img_height = 322, 884\n",
        "# Rescale the images by dividing every pixel in every image by 255\n",
        "train_datagen = ImageDataGenerator(rescale=1./255)\n",
        "validation_datagen = ImageDataGenerator(rescale=1./255)\n",
        "reserved_datagen = ImageDataGenerator(rescale=1./255)\n",
        "\n",
        "# Load images from the directory and prepare them for training\n",
        "train_generator = train_datagen.flow_from_directory(\n",
        "    #train_directory,\n",
        "    directory = train_directory,\n",
        "    target_size=(img_height, img_width),\n",
        "    color_mode = \"grayscale\",\n",
        "    batch_size=16,\n",
        "    class_mode='categorical',\n",
        "    shuffle = True,\n",
        "    seed = 91825)\n",
        "\n",
        "validation_generator = validation_datagen.flow_from_directory(\n",
        "    #validation_directory,\n",
        "    directory = validation_directory,\n",
        "    target_size=(img_height, img_width),\n",
        "    color_mode = \"grayscale\",\n",
        "    batch_size=16,\n",
        "    class_mode='categorical',\n",
        "    shuffle = True,\n",
        "    seed = 18232)\n",
        "\n",
        "#reserved_generator = reserved_datagen.flow_from_directory(\n",
        "#    directory = reserved_directory,\n",
        "#    target_size=(img_height, img_width),\n",
        "#    color_mode = \"grayscale\",\n",
        "#    batch_size=16,\n",
        "#    class_mode='categorical',\n",
        "#    shuffle = False)"
      ],
      "metadata": {
        "id": "i8ccaVL2mOch",
        "colab": {
          "base_uri": "https://localhost:8080/"
        },
        "outputId": "269a37c7-14c8-4c05-e43e-be7e562f60da"
      },
      "execution_count": 47,
      "outputs": [
        {
          "output_type": "stream",
          "name": "stdout",
          "text": [
            "Found 1836 images belonging to 10 classes.\n",
            "Found 572 images belonging to 10 classes.\n"
          ]
        }
      ]
    },
    {
      "cell_type": "code",
      "source": [
        "import tensorflow as tf\n",
        "from tensorflow.keras.models import Sequential\n",
        "from tensorflow.keras.layers import Conv2D, MaxPooling2D, Flatten, Dense, Dropout\n",
        "\n",
        "# Define the CNN model\n",
        "model = Sequential()\n",
        "\n",
        "# Convolutional layer with 32 filters, a kernel size of 3x3, and ReLU activation\n",
        "model.add(Conv2D(32, (3, 3), activation='relu', input_shape=(322, 884, 1)))\n",
        "#model.add(Conv2D(32, (3, 3), activation='relu', input_shape=(884, 322, 1)))\n",
        "model.add(MaxPooling2D((2, 2)))\n",
        "\n",
        "# Adding another convolutional layer\n",
        "model.add(Conv2D(64, (3, 3), activation='relu'))\n",
        "\n",
        "model.add(MaxPooling2D((2, 2)))\n",
        "\n",
        "# Adding another convolutional layer\n",
        "#model.add(Conv2D(128, (3, 3), activation='softmax'))\n",
        "model.add(Conv2D(128, (3, 3), activation='relu'))\n",
        "model.add(MaxPooling2D((2, 2)))\n",
        "\n",
        "# Flatten the output of the convolutional layers\n",
        "model.add(Flatten())\n",
        "\n",
        "# Fully connected layer with 128 units and ReLU activation\n",
        "model.add(Dense(128, activation='relu'))\n",
        "#model.add(Dense(128, activation='softmax'))\n",
        "\n",
        "# Dropout for regularization\n",
        "model.add(Dropout(0.5))\n",
        "\n",
        "# Output layer with a unit for each class and softmax activation\n",
        "model.add(Dense(10, activation='softmax'))\n",
        "\n",
        "# Compile the model\n",
        "model.compile(optimizer='adam',\n",
        "              loss='categorical_crossentropy',\n",
        "              metrics=['accuracy'])\n",
        "\n",
        "# Model summary\n",
        "model.summary()\n"
      ],
      "metadata": {
        "id": "xgttOyIW0yIS",
        "colab": {
          "base_uri": "https://localhost:8080/"
        },
        "outputId": "d48766e6-2854-4f43-91f4-97cab2f33196"
      },
      "execution_count": 48,
      "outputs": [
        {
          "output_type": "stream",
          "name": "stdout",
          "text": [
            "Model: \"sequential_8\"\n",
            "_________________________________________________________________\n",
            " Layer (type)                Output Shape              Param #   \n",
            "=================================================================\n",
            " conv2d_24 (Conv2D)          (None, 320, 882, 32)      320       \n",
            "                                                                 \n",
            " max_pooling2d_24 (MaxPooli  (None, 160, 441, 32)      0         \n",
            " ng2D)                                                           \n",
            "                                                                 \n",
            " conv2d_25 (Conv2D)          (None, 158, 439, 64)      18496     \n",
            "                                                                 \n",
            " max_pooling2d_25 (MaxPooli  (None, 79, 219, 64)       0         \n",
            " ng2D)                                                           \n",
            "                                                                 \n",
            " conv2d_26 (Conv2D)          (None, 77, 217, 128)      73856     \n",
            "                                                                 \n",
            " max_pooling2d_26 (MaxPooli  (None, 38, 108, 128)      0         \n",
            " ng2D)                                                           \n",
            "                                                                 \n",
            " flatten_8 (Flatten)         (None, 525312)            0         \n",
            "                                                                 \n",
            " dense_16 (Dense)            (None, 128)               67240064  \n",
            "                                                                 \n",
            " dropout_8 (Dropout)         (None, 128)               0         \n",
            "                                                                 \n",
            " dense_17 (Dense)            (None, 10)                1290      \n",
            "                                                                 \n",
            "=================================================================\n",
            "Total params: 67334026 (256.86 MB)\n",
            "Trainable params: 67334026 (256.86 MB)\n",
            "Non-trainable params: 0 (0.00 Byte)\n",
            "_________________________________________________________________\n"
          ]
        }
      ]
    },
    {
      "cell_type": "code",
      "source": [
        "# Train the model\n",
        "history = model.fit(\n",
        "    train_generator,\n",
        "    #steps_per_epoch=train_generator.samples // 16,\n",
        "    steps_per_epoch = train_generator.samples // 160,\n",
        "    #epochs=5,\n",
        "    epochs=1,\n",
        "    validation_data=validation_generator,\n",
        "    #validation_steps=validation_generator.samples // 16)\n",
        "    validation_steps=validation_generator.samples // 160)\n",
        "\n",
        "#history = model.fit( train_dataset, batch_size=100, epochs=50 )"
      ],
      "metadata": {
        "id": "ACV1mVyuxcvy",
        "colab": {
          "base_uri": "https://localhost:8080/"
        },
        "outputId": "3c4fa2d6-1a59-497d-aa0d-386f5d028503"
      },
      "execution_count": 49,
      "outputs": [
        {
          "output_type": "stream",
          "name": "stdout",
          "text": [
            "11/11 [==============================] - 126s 11s/step - loss: 1.8613 - accuracy: 0.5227 - val_loss: 1.6773 - val_accuracy: 0.5417\n"
          ]
        }
      ]
    },
    {
      "cell_type": "code",
      "source": [
        "test_directory = '/content/drive/MyDrive/P2_DeepLearning/birdclef-2023.zip (Unzipped Files)/random10_prep_data/test'\n",
        "\n",
        "test_datagen = ImageDataGenerator(rescale=1./255)\n",
        "#test_generator = test_datagen.flow_from_directory(\n",
        "#    test_directory,\n",
        "#    target_size=(img_height, img_width),\n",
        "#    batch_size=16,\n",
        "#    class_mode='categorical',\n",
        "#    shuffle=False)  # It's important not to shuffle the test data\n",
        "\n",
        "test_generator = test_datagen.flow_from_directory(\n",
        "    #test_directory,\n",
        "    directory = test_directory,\n",
        "    target_size=(img_height, img_width),\n",
        "    color_mode = \"grayscale\",\n",
        "    batch_size=16,\n",
        "    class_mode='categorical',\n",
        "    shuffle = False)\n"
      ],
      "metadata": {
        "id": "cbG_fxkm2G_S",
        "colab": {
          "base_uri": "https://localhost:8080/"
        },
        "outputId": "f2c7b74b-5b3a-4a9d-aa28-269b38511136"
      },
      "execution_count": 50,
      "outputs": [
        {
          "output_type": "stream",
          "name": "stdout",
          "text": [
            "Found 572 images belonging to 10 classes.\n"
          ]
        }
      ]
    },
    {
      "cell_type": "code",
      "source": [
        "#test_loss, test_accuracy = model.evaluate(test_generator, steps=test_generator.samples // 16)\n",
        "test_loss, test_accuracy = model.evaluate(test_generator, steps=test_generator.samples // 16)\n",
        "print(\"Test accuracy:\", test_accuracy)\n",
        "print(\"Test loss:\", test_loss)\n"
      ],
      "metadata": {
        "id": "VUCFS91S2JeV",
        "colab": {
          "base_uri": "https://localhost:8080/"
        },
        "outputId": "21134ad1-fed9-449d-db0c-32ac0b683cc8"
      },
      "execution_count": 52,
      "outputs": [
        {
          "output_type": "stream",
          "name": "stdout",
          "text": [
            "35/35 [==============================] - 106s 3s/step - loss: 1.6416 - accuracy: 0.5643\n",
            "Test accuracy: 0.5642856955528259\n",
            "Test loss: 1.6416442394256592\n"
          ]
        }
      ]
    },
    {
      "cell_type": "code",
      "source": [
        "# from sklearn.metrics import classification_report, confusion_matrix\n",
        "\n",
        "# # Predict classes\n",
        "# predictions = model.predict(test_generator, steps=test_generator.samples // 16)\n",
        "# predicted_classes = np.argmax(predictions, axis=1)\n",
        "\n",
        "# # Get true labels\n",
        "# true_classes = test_generator.classes\n",
        "\n",
        "# # Calculate classification report and confusion matrix\n",
        "# report = classification_report(true_classes, predicted_classes, target_names=test_generator.class_indices.keys())\n",
        "# conf_matrix = confusion_matrix(true_classes, predicted_classes)\n",
        "\n",
        "# print(report)\n",
        "# print(conf_matrix)\n"
      ],
      "metadata": {
        "id": "86EkQOw62LxV"
      },
      "execution_count": null,
      "outputs": []
    }
  ]
}