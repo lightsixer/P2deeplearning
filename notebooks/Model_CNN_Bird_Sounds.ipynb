{
  "nbformat": 4,
  "nbformat_minor": 0,
  "metadata": {
    "colab": {
      "provenance": [],
      "machine_shape": "hm",
      "gpuType": "A100"
    },
    "kernelspec": {
      "name": "python3",
      "display_name": "Python 3"
    },
    "language_info": {
      "name": "python"
    },
    "accelerator": "GPU"
  },
  "cells": [
    {
      "cell_type": "code",
      "execution_count": 9,
      "metadata": {
        "colab": {
          "base_uri": "https://localhost:8080/"
        },
        "id": "f2GIGVWaoEQi",
        "outputId": "18b9283b-2921-4d2a-bd9c-65c2d96ce64a"
      },
      "outputs": [
        {
          "output_type": "stream",
          "name": "stdout",
          "text": [
            "Drive already mounted at /content/drive; to attempt to forcibly remount, call drive.mount(\"/content/drive\", force_remount=True).\n"
          ]
        }
      ],
      "source": [
        "# from google.colab import drive\n",
        "\n",
        "# drive.mount(\"/content/drive\")"
      ]
    },
    {
      "cell_type": "code",
      "source": [
        "# import zipfile\n",
        "# with zipfile.ZipFile('/content/train.zip', 'r') as zip_ref:\n",
        "#   # Extract all the contents into the directory\n",
        "#   zip_ref.extractall('/content')"
      ],
      "metadata": {
        "id": "yXqTUgsW5ToU"
      },
      "execution_count": 4,
      "outputs": []
    },
    {
      "cell_type": "code",
      "source": [
        "import os\n",
        "print(os.cpu_count())\n",
        "TRAIN_PATH = os.path.join(\"/content/\", \"train\")\n",
        "TEST_PATH = os.path.join(\"/content/\",  \"test\")\n",
        "VAL_PATH = os.path.join(\"/content/\",  \"val\")"
      ],
      "metadata": {
        "colab": {
          "base_uri": "https://localhost:8080/"
        },
        "id": "_CeOklvKoWPb",
        "outputId": "2ed590f3-d3de-4bc3-fd5a-2ca175fb22bb"
      },
      "execution_count": 5,
      "outputs": [
        {
          "output_type": "stream",
          "name": "stdout",
          "text": [
            "12\n"
          ]
        }
      ]
    },
    {
      "cell_type": "code",
      "source": [
        "import tensorflow as tf\n",
        "\n",
        "gpus = tf.config.experimental.list_physical_devices('GPU')\n",
        "if gpus:\n",
        "    try:\n",
        "        for gpu in gpus:\n",
        "            tf.config.experimental.set_memory_growth(gpu, True)\n",
        "    except RuntimeError as e:\n",
        "        print(e)\n",
        "else:\n",
        "    print(\"No GPU was detected. TensorFlow will run on CPU.\")\n"
      ],
      "metadata": {
        "id": "EGeAs76QrsBa"
      },
      "execution_count": 6,
      "outputs": []
    },
    {
      "cell_type": "code",
      "source": [
        "from tensorflow.keras.preprocessing.image import ImageDataGenerator\n",
        "\n",
        "# Define the path to your spectrogram images\n",
        "train_directory = TRAIN_PATH\n",
        "validation_directory = VAL_PATH\n",
        "\n",
        "SPECTROGRAM_WIDTH = 884\n",
        "SPECTROGRAM_HEIGHT = 322\n",
        "BATCH_SIZE=32\n",
        "# Image dimensions\n",
        "img_width, img_height = SPECTROGRAM_WIDTH, SPECTROGRAM_HEIGHT\n",
        "\n",
        "# Rescale the images by dividing every pixel in every image by 255\n",
        "train_datagen = ImageDataGenerator(rescale=1./255)\n",
        "validation_datagen = ImageDataGenerator(rescale=1./255)\n",
        "\n",
        "# Load images from the directory and prepare them for training\n",
        "train_generator = train_datagen.flow_from_directory(\n",
        "    train_directory,\n",
        "    target_size=(img_height, img_width),\n",
        "    batch_size=BATCH_SIZE,\n",
        "    class_mode='categorical')\n",
        "\n",
        "validation_generator = validation_datagen.flow_from_directory(\n",
        "    validation_directory,\n",
        "    target_size=(img_height, img_width),\n",
        "    batch_size=BATCH_SIZE,\n",
        "    class_mode='categorical')\n"
      ],
      "metadata": {
        "colab": {
          "base_uri": "https://localhost:8080/"
        },
        "id": "ycDz6wmIoi3r",
        "outputId": "f8f8d41d-324a-4fca-c0e2-e540966211d0"
      },
      "execution_count": 7,
      "outputs": [
        {
          "output_type": "stream",
          "name": "stdout",
          "text": [
            "Found 17781 images belonging to 10 classes.\n",
            "Found 6170 images belonging to 10 classes.\n"
          ]
        }
      ]
    },
    {
      "cell_type": "code",
      "source": [
        "import tensorflow as tf\n",
        "from tensorflow.keras.models import Sequential\n",
        "from tensorflow.keras.layers import Conv2D, MaxPooling2D, Flatten, Dense, Dropout\n",
        "\n",
        "CHANNELS = 3\n",
        "NUM_CLASSES = 10\n",
        "\n",
        "# Define the CNN model\n",
        "model = Sequential()\n",
        "\n",
        "# Convolutional layer with 32 filters, a kernel size of 3x3, and ReLU activation\n",
        "model.add(Conv2D(32, (3, 3), activation='relu', input_shape=(SPECTROGRAM_HEIGHT, SPECTROGRAM_WIDTH, CHANNELS)))\n",
        "model.add(MaxPooling2D((2, 2)))\n",
        "\n",
        "# Adding another convolutional layer\n",
        "model.add(Conv2D(64, (3, 3), activation='relu'))\n",
        "model.add(MaxPooling2D((2, 2)))\n",
        "\n",
        "# Adding another convolutional layer\n",
        "model.add(Conv2D(128, (3, 3), activation='relu'))\n",
        "model.add(MaxPooling2D((2, 2)))\n",
        "\n",
        "# Flatten the output of the convolutional layers\n",
        "model.add(Flatten())\n",
        "\n",
        "# Fully connected layer with 128 units and ReLU activation\n",
        "model.add(Dense(128, activation='relu'))\n",
        "\n",
        "# Dropout for regularization\n",
        "model.add(Dropout(0.5))\n",
        "\n",
        "# Output layer with a unit for each class and softmax activation\n",
        "model.add(Dense(NUM_CLASSES, activation='softmax'))\n",
        "\n",
        "# Compile the model\n",
        "model.compile(optimizer='adam',\n",
        "              loss='categorical_crossentropy',\n",
        "              metrics=['accuracy'])\n",
        "\n",
        "# Model summary\n",
        "model.summary()\n"
      ],
      "metadata": {
        "colab": {
          "base_uri": "https://localhost:8080/"
        },
        "id": "cyMtVdSfosoI",
        "outputId": "80baf789-17da-42f4-c9b6-385c5a4abeef"
      },
      "execution_count": 8,
      "outputs": [
        {
          "output_type": "stream",
          "name": "stdout",
          "text": [
            "Model: \"sequential\"\n",
            "_________________________________________________________________\n",
            " Layer (type)                Output Shape              Param #   \n",
            "=================================================================\n",
            " conv2d (Conv2D)             (None, 320, 882, 32)      896       \n",
            "                                                                 \n",
            " max_pooling2d (MaxPooling2  (None, 160, 441, 32)      0         \n",
            " D)                                                              \n",
            "                                                                 \n",
            " conv2d_1 (Conv2D)           (None, 158, 439, 64)      18496     \n",
            "                                                                 \n",
            " max_pooling2d_1 (MaxPoolin  (None, 79, 219, 64)       0         \n",
            " g2D)                                                            \n",
            "                                                                 \n",
            " conv2d_2 (Conv2D)           (None, 77, 217, 128)      73856     \n",
            "                                                                 \n",
            " max_pooling2d_2 (MaxPoolin  (None, 38, 108, 128)      0         \n",
            " g2D)                                                            \n",
            "                                                                 \n",
            " flatten (Flatten)           (None, 525312)            0         \n",
            "                                                                 \n",
            " dense (Dense)               (None, 128)               67240064  \n",
            "                                                                 \n",
            " dropout (Dropout)           (None, 128)               0         \n",
            "                                                                 \n",
            " dense_1 (Dense)             (None, 10)                1290      \n",
            "                                                                 \n",
            "=================================================================\n",
            "Total params: 67334602 (256.86 MB)\n",
            "Trainable params: 67334602 (256.86 MB)\n",
            "Non-trainable params: 0 (0.00 Byte)\n",
            "_________________________________________________________________\n"
          ]
        }
      ]
    },
    {
      "cell_type": "code",
      "source": [
        "EPOCHS = 10\n",
        "\n",
        "history = model.fit(\n",
        "    train_generator,\n",
        "    steps_per_epoch=train_generator.samples // BATCH_SIZE,\n",
        "    epochs=EPOCHS,\n",
        "    validation_data=validation_generator,\n",
        "    validation_steps=validation_generator.samples // BATCH_SIZE)\n"
      ],
      "metadata": {
        "colab": {
          "base_uri": "https://localhost:8080/"
        },
        "id": "f0to5PEUotLf",
        "outputId": "b170cd20-fcf0-491b-dc9a-eebab87e7d12"
      },
      "execution_count": 9,
      "outputs": [
        {
          "output_type": "stream",
          "name": "stdout",
          "text": [
            "Epoch 1/10\n",
            "555/555 [==============================] - 276s 471ms/step - loss: 1.3293 - accuracy: 0.5629 - val_loss: 0.9258 - val_accuracy: 0.7249\n",
            "Epoch 2/10\n",
            "555/555 [==============================] - 261s 470ms/step - loss: 0.7753 - accuracy: 0.7549 - val_loss: 0.7379 - val_accuracy: 0.7692\n",
            "Epoch 3/10\n",
            "555/555 [==============================] - 262s 472ms/step - loss: 0.4836 - accuracy: 0.8424 - val_loss: 0.7409 - val_accuracy: 0.7827\n",
            "Epoch 4/10\n",
            "555/555 [==============================] - 262s 472ms/step - loss: 0.3180 - accuracy: 0.8921 - val_loss: 0.8386 - val_accuracy: 0.7703\n",
            "Epoch 5/10\n",
            "555/555 [==============================] - 262s 472ms/step - loss: 0.2235 - accuracy: 0.9266 - val_loss: 0.9325 - val_accuracy: 0.7879\n",
            "Epoch 6/10\n",
            "555/555 [==============================] - 262s 473ms/step - loss: 0.1884 - accuracy: 0.9359 - val_loss: 1.0484 - val_accuracy: 0.7824\n",
            "Epoch 7/10\n",
            "555/555 [==============================] - 262s 473ms/step - loss: 0.1430 - accuracy: 0.9496 - val_loss: 1.0499 - val_accuracy: 0.7703\n",
            "Epoch 8/10\n",
            "555/555 [==============================] - 261s 470ms/step - loss: 0.1329 - accuracy: 0.9553 - val_loss: 1.0806 - val_accuracy: 0.7769\n",
            "Epoch 9/10\n",
            "555/555 [==============================] - 260s 469ms/step - loss: 0.1232 - accuracy: 0.9573 - val_loss: 1.1822 - val_accuracy: 0.7806\n",
            "Epoch 10/10\n",
            "555/555 [==============================] - 261s 470ms/step - loss: 0.1089 - accuracy: 0.9620 - val_loss: 1.1226 - val_accuracy: 0.7979\n"
          ]
        }
      ]
    },
    {
      "cell_type": "code",
      "source": [
        "\n",
        "test_datagen = ImageDataGenerator(rescale=1./255)\n",
        "test_generator = test_datagen.flow_from_directory(\n",
        "    TEST_PATH,\n",
        "    target_size=(img_height, img_width),\n",
        "    batch_size=BATCH_SIZE,\n",
        "    class_mode='categorical',\n",
        "    shuffle=False)  # It's important not to shuffle the test data\n"
      ],
      "metadata": {
        "colab": {
          "base_uri": "https://localhost:8080/"
        },
        "id": "_18GEQkP5Tff",
        "outputId": "bf6851c3-550f-4a5c-efde-c62e5ea1ce11"
      },
      "execution_count": 10,
      "outputs": [
        {
          "output_type": "stream",
          "name": "stdout",
          "text": [
            "Found 5576 images belonging to 10 classes.\n"
          ]
        }
      ]
    },
    {
      "cell_type": "code",
      "source": [
        "test_loss, test_accuracy = model.evaluate(test_generator, steps=test_generator.samples // BATCH_SIZE)\n",
        "print(\"Test accuracy:\", test_accuracy)\n",
        "print(\"Test loss:\", test_loss)\n"
      ],
      "metadata": {
        "colab": {
          "base_uri": "https://localhost:8080/"
        },
        "id": "jZSsaF8ZTpNr",
        "outputId": "8d71a834-411d-4284-afbe-da7bff40e96f"
      },
      "execution_count": 11,
      "outputs": [
        {
          "output_type": "stream",
          "name": "stdout",
          "text": [
            "174/174 [==============================] - 61s 350ms/step - loss: 0.9895 - accuracy: 0.8041\n",
            "Test accuracy: 0.8040589094161987\n",
            "Test loss: 0.9894700050354004\n"
          ]
        }
      ]
    },
    {
      "cell_type": "code",
      "source": [
        "from sklearn.metrics import classification_report, confusion_matrix\n",
        "import numpy as np\n",
        "\n",
        "# Predict classes\n",
        "predictions = model.predict(test_generator)\n",
        "predicted_classes = np.argmax(predictions, axis=1)\n",
        "\n",
        "# Get true labels\n",
        "true_classes = test_generator.classes\n",
        "\n",
        "# Calculate classification report and confusion matrix\n",
        "report = classification_report(true_classes, predicted_classes, target_names=test_generator.class_indices.keys())\n",
        "conf_matrix = confusion_matrix(true_classes, predicted_classes)\n",
        "\n",
        "print(report)\n",
        "print(conf_matrix)\n"
      ],
      "metadata": {
        "colab": {
          "base_uri": "https://localhost:8080/"
        },
        "id": "KTZv5n97Tp5g",
        "outputId": "867c0a0d-7645-4f82-bea6-cffcf7d92554"
      },
      "execution_count": 17,
      "outputs": [
        {
          "output_type": "stream",
          "name": "stdout",
          "text": [
            "175/175 [==============================] - 61s 348ms/step\n",
            "              precision    recall  f1-score   support\n",
            "\n",
            "      barswa       0.65      0.66      0.66       428\n",
            "     cohmar1       0.79      0.70      0.74       552\n",
            "     combuz1       0.77      0.70      0.73       504\n",
            "      comsan       0.82      0.84      0.83       392\n",
            "     eaywag1       0.77      0.65      0.70       344\n",
            "     eubeat1       0.93      0.90      0.91       492\n",
            "      litegr       0.80      0.81      0.80       246\n",
            "     thrnig1       0.86      0.93      0.89      1654\n",
            "      wlwwar       0.72      0.80      0.76       684\n",
            "      woosan       0.83      0.63      0.72       280\n",
            "\n",
            "    accuracy                           0.80      5576\n",
            "   macro avg       0.79      0.76      0.78      5576\n",
            "weighted avg       0.80      0.80      0.80      5576\n",
            "\n",
            "[[ 283   36    8   15   11    0    6   22   31   16]\n",
            " [  88  387    5    5   15    0    3   35   11    3]\n",
            " [  13   23  355    9    4    4    2   54   40    0]\n",
            " [   2    1   18  330   15    2    6    8    8    2]\n",
            " [   5   19    7   14  223    8    7   24   37    0]\n",
            " [   2    2   11    5    2  441    6   21    2    0]\n",
            " [   7    3    9    3    1    7  199   11    3    3]\n",
            " [   6   10   24    9    2    8    7 1543   40    5]\n",
            " [  14    7   19    5    8    4    9   65  547    6]\n",
            " [  13    3    8    7    8    1    5   19   40  176]]\n"
          ]
        }
      ]
    },
    {
      "cell_type": "code",
      "source": [
        "preds = model.predict(test_generator)"
      ],
      "metadata": {
        "colab": {
          "base_uri": "https://localhost:8080/"
        },
        "id": "erecVMJXfyLG",
        "outputId": "3e8f36d1-235e-45db-ab84-19196159fa82"
      },
      "execution_count": 15,
      "outputs": [
        {
          "output_type": "stream",
          "name": "stdout",
          "text": [
            "175/175 [==============================] - 61s 347ms/step\n"
          ]
        }
      ]
    },
    {
      "cell_type": "code",
      "source": [
        "len(preds)"
      ],
      "metadata": {
        "colab": {
          "base_uri": "https://localhost:8080/"
        },
        "id": "6iP5gppbgNYd",
        "outputId": "de1c4583-7cce-4e96-9385-756e47d69453"
      },
      "execution_count": 16,
      "outputs": [
        {
          "output_type": "execute_result",
          "data": {
            "text/plain": [
              "5576"
            ]
          },
          "metadata": {},
          "execution_count": 16
        }
      ]
    },
    {
      "cell_type": "code",
      "source": [
        "from google.colab import drive\n",
        "\n",
        "drive.mount(\"/content/drive\")"
      ],
      "metadata": {
        "colab": {
          "base_uri": "https://localhost:8080/"
        },
        "id": "C79eN_1ihK66",
        "outputId": "2c6dcf15-6065-491a-df49-29261a1f5175"
      },
      "execution_count": 19,
      "outputs": [
        {
          "output_type": "stream",
          "name": "stdout",
          "text": [
            "Mounted at /content/drive\n"
          ]
        }
      ]
    },
    {
      "cell_type": "code",
      "source": [
        "model.save('/content/drive/MyDrive/P2_DeepLearning/birdclef-2023/prep_data/bird_pred.h5')\n"
      ],
      "metadata": {
        "id": "Ng-rNfLchAuF"
      },
      "execution_count": 20,
      "outputs": []
    }
  ]
}