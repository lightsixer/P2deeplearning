{
  "nbformat": 4,
  "nbformat_minor": 0,
  "metadata": {
    "colab": {
      "provenance": [],
      "gpuType": "T4"
    },
    "kernelspec": {
      "name": "python3",
      "display_name": "Python 3"
    },
    "language_info": {
      "name": "python"
    },
    "accelerator": "GPU"
  },
  "cells": [
    {
      "cell_type": "code",
      "source": [
        "!pip install noisereduce"
      ],
      "metadata": {
        "id": "bJwbe6MOi9gG",
        "colab": {
          "base_uri": "https://localhost:8080/"
        },
        "outputId": "e851f52c-7392-436c-8a29-61379e159e52"
      },
      "execution_count": 170,
      "outputs": [
        {
          "output_type": "stream",
          "name": "stdout",
          "text": [
            "Requirement already satisfied: noisereduce in /usr/local/lib/python3.10/dist-packages (3.0.0)\n",
            "Requirement already satisfied: scipy in /usr/local/lib/python3.10/dist-packages (from noisereduce) (1.11.3)\n",
            "Requirement already satisfied: matplotlib in /usr/local/lib/python3.10/dist-packages (from noisereduce) (3.7.1)\n",
            "Requirement already satisfied: librosa in /usr/local/lib/python3.10/dist-packages (from noisereduce) (0.10.1)\n",
            "Requirement already satisfied: numpy in /usr/local/lib/python3.10/dist-packages (from noisereduce) (1.23.5)\n",
            "Requirement already satisfied: tqdm in /usr/local/lib/python3.10/dist-packages (from noisereduce) (4.66.1)\n",
            "Requirement already satisfied: audioread>=2.1.9 in /usr/local/lib/python3.10/dist-packages (from librosa->noisereduce) (3.0.1)\n",
            "Requirement already satisfied: scikit-learn>=0.20.0 in /usr/local/lib/python3.10/dist-packages (from librosa->noisereduce) (1.2.2)\n",
            "Requirement already satisfied: joblib>=0.14 in /usr/local/lib/python3.10/dist-packages (from librosa->noisereduce) (1.3.2)\n",
            "Requirement already satisfied: decorator>=4.3.0 in /usr/local/lib/python3.10/dist-packages (from librosa->noisereduce) (4.4.2)\n",
            "Requirement already satisfied: numba>=0.51.0 in /usr/local/lib/python3.10/dist-packages (from librosa->noisereduce) (0.58.1)\n",
            "Requirement already satisfied: soundfile>=0.12.1 in /usr/local/lib/python3.10/dist-packages (from librosa->noisereduce) (0.12.1)\n",
            "Requirement already satisfied: pooch>=1.0 in /usr/local/lib/python3.10/dist-packages (from librosa->noisereduce) (1.8.0)\n",
            "Requirement already satisfied: soxr>=0.3.2 in /usr/local/lib/python3.10/dist-packages (from librosa->noisereduce) (0.3.7)\n",
            "Requirement already satisfied: typing-extensions>=4.1.1 in /usr/local/lib/python3.10/dist-packages (from librosa->noisereduce) (4.5.0)\n",
            "Requirement already satisfied: lazy-loader>=0.1 in /usr/local/lib/python3.10/dist-packages (from librosa->noisereduce) (0.3)\n",
            "Requirement already satisfied: msgpack>=1.0 in /usr/local/lib/python3.10/dist-packages (from librosa->noisereduce) (1.0.7)\n",
            "Requirement already satisfied: contourpy>=1.0.1 in /usr/local/lib/python3.10/dist-packages (from matplotlib->noisereduce) (1.2.0)\n",
            "Requirement already satisfied: cycler>=0.10 in /usr/local/lib/python3.10/dist-packages (from matplotlib->noisereduce) (0.12.1)\n",
            "Requirement already satisfied: fonttools>=4.22.0 in /usr/local/lib/python3.10/dist-packages (from matplotlib->noisereduce) (4.44.0)\n",
            "Requirement already satisfied: kiwisolver>=1.0.1 in /usr/local/lib/python3.10/dist-packages (from matplotlib->noisereduce) (1.4.5)\n",
            "Requirement already satisfied: packaging>=20.0 in /usr/local/lib/python3.10/dist-packages (from matplotlib->noisereduce) (23.2)\n",
            "Requirement already satisfied: pillow>=6.2.0 in /usr/local/lib/python3.10/dist-packages (from matplotlib->noisereduce) (9.4.0)\n",
            "Requirement already satisfied: pyparsing>=2.3.1 in /usr/local/lib/python3.10/dist-packages (from matplotlib->noisereduce) (3.1.1)\n",
            "Requirement already satisfied: python-dateutil>=2.7 in /usr/local/lib/python3.10/dist-packages (from matplotlib->noisereduce) (2.8.2)\n",
            "Requirement already satisfied: llvmlite<0.42,>=0.41.0dev0 in /usr/local/lib/python3.10/dist-packages (from numba>=0.51.0->librosa->noisereduce) (0.41.1)\n",
            "Requirement already satisfied: platformdirs>=2.5.0 in /usr/local/lib/python3.10/dist-packages (from pooch>=1.0->librosa->noisereduce) (3.11.0)\n",
            "Requirement already satisfied: requests>=2.19.0 in /usr/local/lib/python3.10/dist-packages (from pooch>=1.0->librosa->noisereduce) (2.31.0)\n",
            "Requirement already satisfied: six>=1.5 in /usr/local/lib/python3.10/dist-packages (from python-dateutil>=2.7->matplotlib->noisereduce) (1.16.0)\n",
            "Requirement already satisfied: threadpoolctl>=2.0.0 in /usr/local/lib/python3.10/dist-packages (from scikit-learn>=0.20.0->librosa->noisereduce) (3.2.0)\n",
            "Requirement already satisfied: cffi>=1.0 in /usr/local/lib/python3.10/dist-packages (from soundfile>=0.12.1->librosa->noisereduce) (1.16.0)\n",
            "Requirement already satisfied: pycparser in /usr/local/lib/python3.10/dist-packages (from cffi>=1.0->soundfile>=0.12.1->librosa->noisereduce) (2.21)\n",
            "Requirement already satisfied: charset-normalizer<4,>=2 in /usr/local/lib/python3.10/dist-packages (from requests>=2.19.0->pooch>=1.0->librosa->noisereduce) (3.3.2)\n",
            "Requirement already satisfied: idna<4,>=2.5 in /usr/local/lib/python3.10/dist-packages (from requests>=2.19.0->pooch>=1.0->librosa->noisereduce) (3.4)\n",
            "Requirement already satisfied: urllib3<3,>=1.21.1 in /usr/local/lib/python3.10/dist-packages (from requests>=2.19.0->pooch>=1.0->librosa->noisereduce) (2.0.7)\n",
            "Requirement already satisfied: certifi>=2017.4.17 in /usr/local/lib/python3.10/dist-packages (from requests>=2.19.0->pooch>=1.0->librosa->noisereduce) (2023.7.22)\n"
          ]
        }
      ]
    },
    {
      "cell_type": "code",
      "source": [
        "from google.colab import drive\n",
        "drive.mount('/content/drive')"
      ],
      "metadata": {
        "colab": {
          "base_uri": "https://localhost:8080/"
        },
        "id": "UYuG83jsjMhe",
        "outputId": "3ec34c9a-e3f2-4fe2-863c-d53848b792a3"
      },
      "execution_count": 171,
      "outputs": [
        {
          "output_type": "stream",
          "name": "stdout",
          "text": [
            "Drive already mounted at /content/drive; to attempt to forcibly remount, call drive.mount(\"/content/drive\", force_remount=True).\n"
          ]
        }
      ]
    },
    {
      "cell_type": "code",
      "execution_count": 172,
      "metadata": {
        "id": "vRcN3aEdioi4"
      },
      "outputs": [],
      "source": [
        "import noisereduce as nr\n",
        "import librosa\n",
        "import librosa.display\n",
        "import numpy as np\n",
        "import matplotlib.pyplot as plt\n",
        "from keras.preprocessing.image import ImageDataGenerator"
      ]
    },
    {
      "cell_type": "code",
      "source": [
        "from tensorflow.keras.preprocessing.image import ImageDataGenerator\n",
        "\n",
        "# Define the path to your spectrogram images\n",
        "train_directory = '/content/drive/MyDrive/P2_DeepLearning/birdclef-2023/random10_prep_data/train'\n",
        "validation_directory = '/content/drive/MyDrive/P2_DeepLearning/birdclef-2023/random10_prep_data/test'\n",
        "\n",
        "#train_directory = r'/content/drive/MyDrive/P2_DeepLearning/birdclef-2023.zip (Unzipped Files)/random10_prep_data/train'\n",
        "#validation_directory = r'/content/drive/MyDrive/P2_DeepLearning/birdclef-2023.zip (Unzipped Files)/random10_prep_data/test'\n",
        "\n",
        "#reserved_directory = '/content/drive/MyDrive/P2_DeepLearning/birdclef-2023.zip (Unzipped Files)/random10_prep_data/reserved'\n",
        "\n",
        "batchSize = 1\n",
        "\n",
        "# Image dimensions\n",
        "#img_width, img_height = 884, 322\n",
        "img_width, img_height = 322, 884\n",
        "# Rescale the images by dividing every pixel in every image by 255\n",
        "train_datagen = ImageDataGenerator(rescale=1./255)\n",
        "validation_datagen = ImageDataGenerator(rescale=1./255)\n",
        "reserved_datagen = ImageDataGenerator(rescale=1./255)\n",
        "\n",
        "# Load images from the directory and prepare them for training\n",
        "train_generator = train_datagen.flow_from_directory(\n",
        "    #train_directory,\n",
        "    directory = train_directory,\n",
        "    target_size=(img_height, img_width),\n",
        "    color_mode = \"grayscale\",\n",
        "    batch_size = batchSize,\n",
        "    class_mode='categorical',\n",
        "    shuffle = True,\n",
        "    seed = 91825)\n",
        "\n",
        "validation_generator = validation_datagen.flow_from_directory(\n",
        "    #validation_directory,\n",
        "    directory = validation_directory,\n",
        "    target_size=(img_height, img_width),\n",
        "    color_mode = \"grayscale\",\n",
        "    batch_size = batchSize,\n",
        "    class_mode='categorical',\n",
        "    shuffle = True,\n",
        "    seed = 18232)\n",
        "\n",
        "#reserved_generator = reserved_datagen.flow_from_directory(\n",
        "#    directory = reserved_directory,\n",
        "#    target_size=(img_height, img_width),\n",
        "#    color_mode = \"grayscale\",\n",
        "#    batch_size=16,\n",
        "#    class_mode='categorical',\n",
        "#    shuffle = False)"
      ],
      "metadata": {
        "id": "i8ccaVL2mOch",
        "colab": {
          "base_uri": "https://localhost:8080/"
        },
        "outputId": "45142e50-a8ca-4b50-855e-07dfa4bfda52"
      },
      "execution_count": 180,
      "outputs": [
        {
          "output_type": "stream",
          "name": "stdout",
          "text": [
            "Found 1836 images belonging to 10 classes.\n",
            "Found 572 images belonging to 10 classes.\n"
          ]
        }
      ]
    },
    {
      "cell_type": "code",
      "source": [
        "import tensorflow as tf\n",
        "from tensorflow.keras.models import Sequential\n",
        "from tensorflow.keras.layers import Conv2D, MaxPooling2D, Flatten, Dense, Dropout\n",
        "from tensorflow import keras\n",
        "# Define the CNN model\n",
        "model = Sequential()\n",
        "\n",
        "# Convolutional layer with 32 filters, a kernel size of 3x3, and ReLU activation\n",
        "model.add(Conv2D(32, (3, 3), activation='relu', input_shape=(322, 884, 1) ) )\n",
        "model.add(MaxPooling2D((2, 2)))\n",
        "\n",
        "# Adding another convolutional layer\n",
        "model.add(Conv2D(64, (3, 3), activation='relu'))\n",
        "model.add(MaxPooling2D((5, 5)))\n",
        "\n",
        "#model.add(Conv2D(64, (5, 5), activation='relu'))\n",
        "#model.add(MaxPooling2D((4, 4)))\n",
        "\n",
        "#Adding dropout layer to control overfitting\n",
        "model.add(Dropout(0.25))\n",
        "# Adding dense softmax layer\n",
        "model.add(Dense(128, activation='softmax'))\n",
        "\n",
        "# Adding layer with tanh acitvation function to improve accuracy\n",
        "model.add(Conv2D(128, (3, 3), activation='tanh'))\n",
        "#varying the size of the max pooling kernel has helepd the model\n",
        "model.add(MaxPooling2D((4, 4)))\n",
        "\n",
        "# Flatten the output of the convolutional layers\n",
        "model.add(Flatten())\n",
        "\n",
        "# Fully connected layer with 128 units and ReLU activation\n",
        "model.add(Dense(128, activation='relu'))\n",
        "\n",
        "#several layers added\n",
        "\n",
        "\n",
        "# Dropout for regularization\n",
        "model.add(Dropout(0.15))\n",
        "\n",
        "# Output layer with a unit for each class and softmax activation\n",
        "model.add(Dense(10, activation='softmax'))\n",
        "\n",
        "# Compile the model\n",
        "\n",
        "#opti = keras.optimizers.Adam(learning_rate = 0.02)\n",
        "model.compile( optimizer = 'adam',#optimizer = opti,\n",
        "              loss='categorical_crossentropy',\n",
        "              metrics=['accuracy'])\n",
        "\n",
        "# Model summary\n",
        "model.summary()\n"
      ],
      "metadata": {
        "id": "xgttOyIW0yIS",
        "colab": {
          "base_uri": "https://localhost:8080/"
        },
        "outputId": "7d490f71-d189-4088-b496-6ae91d118be1"
      },
      "execution_count": 181,
      "outputs": [
        {
          "output_type": "stream",
          "name": "stdout",
          "text": [
            "Model: \"sequential_38\"\n",
            "_________________________________________________________________\n",
            " Layer (type)                Output Shape              Param #   \n",
            "=================================================================\n",
            " conv2d_140 (Conv2D)         (None, 320, 882, 32)      320       \n",
            "                                                                 \n",
            " max_pooling2d_134 (MaxPool  (None, 160, 441, 32)      0         \n",
            " ing2D)                                                          \n",
            "                                                                 \n",
            " conv2d_141 (Conv2D)         (None, 158, 439, 64)      18496     \n",
            "                                                                 \n",
            " max_pooling2d_135 (MaxPool  (None, 31, 87, 64)        0         \n",
            " ing2D)                                                          \n",
            "                                                                 \n",
            " dropout_67 (Dropout)        (None, 31, 87, 64)        0         \n",
            "                                                                 \n",
            " dense_97 (Dense)            (None, 31, 87, 128)       8320      \n",
            "                                                                 \n",
            " conv2d_142 (Conv2D)         (None, 29, 85, 128)       147584    \n",
            "                                                                 \n",
            " max_pooling2d_136 (MaxPool  (None, 7, 21, 128)        0         \n",
            " ing2D)                                                          \n",
            "                                                                 \n",
            " flatten_33 (Flatten)        (None, 18816)             0         \n",
            "                                                                 \n",
            " dense_98 (Dense)            (None, 128)               2408576   \n",
            "                                                                 \n",
            " dropout_68 (Dropout)        (None, 128)               0         \n",
            "                                                                 \n",
            " dense_99 (Dense)            (None, 10)                1290      \n",
            "                                                                 \n",
            "=================================================================\n",
            "Total params: 2584586 (9.86 MB)\n",
            "Trainable params: 2584586 (9.86 MB)\n",
            "Non-trainable params: 0 (0.00 Byte)\n",
            "_________________________________________________________________\n"
          ]
        }
      ]
    },
    {
      "cell_type": "code",
      "source": [
        "# Train the model\n",
        "\n",
        "fitModel = model.fit(\n",
        "    train_generator,\n",
        "    steps_per_epoch = train_generator.samples // batchSize,\n",
        "    epochs = 40,\n",
        "    validation_data=validation_generator,\n",
        "    validation_steps=validation_generator.samples // batchSize)\n"
      ],
      "metadata": {
        "id": "ACV1mVyuxcvy",
        "colab": {
          "base_uri": "https://localhost:8080/"
        },
        "outputId": "950450e3-288a-4fe7-c589-049b28383070"
      },
      "execution_count": 183,
      "outputs": [
        {
          "output_type": "stream",
          "name": "stdout",
          "text": [
            "Epoch 1/40\n",
            "1836/1836 [==============================] - 43s 24ms/step - loss: 0.7321 - accuracy: 0.7614 - val_loss: 2.0779 - val_accuracy: 0.6748\n",
            "Epoch 2/40\n",
            "1836/1836 [==============================] - 38s 21ms/step - loss: 0.6789 - accuracy: 0.7636 - val_loss: 1.5890 - val_accuracy: 0.6591\n",
            "Epoch 3/40\n",
            "1836/1836 [==============================] - 43s 24ms/step - loss: 0.7206 - accuracy: 0.7533 - val_loss: 1.5439 - val_accuracy: 0.7080\n",
            "Epoch 4/40\n",
            "1836/1836 [==============================] - 43s 23ms/step - loss: 0.6189 - accuracy: 0.7865 - val_loss: 1.6112 - val_accuracy: 0.6853\n",
            "Epoch 5/40\n",
            "1836/1836 [==============================] - 43s 23ms/step - loss: 0.6274 - accuracy: 0.7756 - val_loss: 1.6502 - val_accuracy: 0.6871\n",
            "Epoch 6/40\n",
            "1836/1836 [==============================] - 38s 21ms/step - loss: 0.6208 - accuracy: 0.7827 - val_loss: 1.8179 - val_accuracy: 0.6661\n",
            "Epoch 7/40\n",
            "1836/1836 [==============================] - 43s 24ms/step - loss: 0.6272 - accuracy: 0.7821 - val_loss: 1.8128 - val_accuracy: 0.6748\n",
            "Epoch 8/40\n",
            "1836/1836 [==============================] - 38s 21ms/step - loss: 0.6150 - accuracy: 0.8028 - val_loss: 1.3332 - val_accuracy: 0.7133\n",
            "Epoch 9/40\n",
            "1836/1836 [==============================] - 41s 22ms/step - loss: 0.5679 - accuracy: 0.7996 - val_loss: 1.7509 - val_accuracy: 0.6731\n",
            "Epoch 10/40\n",
            "1836/1836 [==============================] - 43s 23ms/step - loss: 0.5564 - accuracy: 0.8056 - val_loss: 1.7123 - val_accuracy: 0.7045\n",
            "Epoch 11/40\n",
            "1836/1836 [==============================] - 43s 24ms/step - loss: 0.5506 - accuracy: 0.8077 - val_loss: 1.8672 - val_accuracy: 0.7098\n",
            "Epoch 12/40\n",
            "1836/1836 [==============================] - 43s 23ms/step - loss: 0.5788 - accuracy: 0.8007 - val_loss: 2.2587 - val_accuracy: 0.6731\n",
            "Epoch 13/40\n",
            "1836/1836 [==============================] - 43s 24ms/step - loss: 0.5977 - accuracy: 0.8126 - val_loss: 1.7204 - val_accuracy: 0.7098\n",
            "Epoch 14/40\n",
            "1836/1836 [==============================] - 43s 24ms/step - loss: 0.4770 - accuracy: 0.8295 - val_loss: 2.2530 - val_accuracy: 0.6853\n",
            "Epoch 15/40\n",
            "1836/1836 [==============================] - 43s 23ms/step - loss: 0.5242 - accuracy: 0.8344 - val_loss: 1.7567 - val_accuracy: 0.7063\n",
            "Epoch 16/40\n",
            "1836/1836 [==============================] - 44s 24ms/step - loss: 0.5123 - accuracy: 0.8230 - val_loss: 1.7844 - val_accuracy: 0.6958\n",
            "Epoch 17/40\n",
            "1836/1836 [==============================] - 44s 24ms/step - loss: 0.4546 - accuracy: 0.8377 - val_loss: 1.6744 - val_accuracy: 0.6993\n",
            "Epoch 18/40\n",
            "1836/1836 [==============================] - 43s 23ms/step - loss: 0.4846 - accuracy: 0.8361 - val_loss: 2.6635 - val_accuracy: 0.6941\n",
            "Epoch 19/40\n",
            "1836/1836 [==============================] - 44s 24ms/step - loss: 0.5218 - accuracy: 0.8219 - val_loss: 2.0263 - val_accuracy: 0.7010\n",
            "Epoch 20/40\n",
            "1836/1836 [==============================] - 40s 22ms/step - loss: 0.5105 - accuracy: 0.8284 - val_loss: 3.2129 - val_accuracy: 0.6766\n",
            "Epoch 21/40\n",
            "1836/1836 [==============================] - 38s 21ms/step - loss: 0.5011 - accuracy: 0.8312 - val_loss: 2.0831 - val_accuracy: 0.6364\n",
            "Epoch 22/40\n",
            "1836/1836 [==============================] - 38s 21ms/step - loss: 0.4655 - accuracy: 0.8480 - val_loss: 2.0091 - val_accuracy: 0.7028\n",
            "Epoch 23/40\n",
            "1836/1836 [==============================] - 41s 22ms/step - loss: 0.4522 - accuracy: 0.8431 - val_loss: 3.5959 - val_accuracy: 0.6731\n",
            "Epoch 24/40\n",
            "1836/1836 [==============================] - 38s 21ms/step - loss: 0.4969 - accuracy: 0.8361 - val_loss: 2.8013 - val_accuracy: 0.7028\n",
            "Epoch 25/40\n",
            "1836/1836 [==============================] - 43s 24ms/step - loss: 0.4352 - accuracy: 0.8475 - val_loss: 2.2269 - val_accuracy: 0.6294\n",
            "Epoch 26/40\n",
            "1836/1836 [==============================] - 43s 24ms/step - loss: 0.5208 - accuracy: 0.8306 - val_loss: 2.3772 - val_accuracy: 0.6626\n",
            "Epoch 27/40\n",
            "1836/1836 [==============================] - 43s 23ms/step - loss: 0.4941 - accuracy: 0.8437 - val_loss: 2.5484 - val_accuracy: 0.6888\n",
            "Epoch 28/40\n",
            "1836/1836 [==============================] - 38s 21ms/step - loss: 0.4701 - accuracy: 0.8529 - val_loss: 2.9728 - val_accuracy: 0.7010\n",
            "Epoch 29/40\n",
            "1836/1836 [==============================] - 43s 23ms/step - loss: 0.4764 - accuracy: 0.8529 - val_loss: 2.4495 - val_accuracy: 0.6573\n",
            "Epoch 30/40\n",
            "1836/1836 [==============================] - 43s 23ms/step - loss: 0.4555 - accuracy: 0.8513 - val_loss: 3.2205 - val_accuracy: 0.7028\n",
            "Epoch 31/40\n",
            "1836/1836 [==============================] - 42s 23ms/step - loss: 0.4982 - accuracy: 0.8388 - val_loss: 1.9481 - val_accuracy: 0.6224\n",
            "Epoch 32/40\n",
            "1836/1836 [==============================] - 38s 21ms/step - loss: 0.4506 - accuracy: 0.8437 - val_loss: 3.9416 - val_accuracy: 0.6906\n",
            "Epoch 33/40\n",
            "1836/1836 [==============================] - 43s 23ms/step - loss: 0.4264 - accuracy: 0.8568 - val_loss: 3.6147 - val_accuracy: 0.6469\n",
            "Epoch 34/40\n",
            "1836/1836 [==============================] - 38s 21ms/step - loss: 0.4689 - accuracy: 0.8442 - val_loss: 3.5145 - val_accuracy: 0.6329\n",
            "Epoch 35/40\n",
            "1836/1836 [==============================] - 43s 23ms/step - loss: 0.4826 - accuracy: 0.8393 - val_loss: 2.3221 - val_accuracy: 0.6626\n",
            "Epoch 36/40\n",
            "1836/1836 [==============================] - 38s 21ms/step - loss: 0.3990 - accuracy: 0.8617 - val_loss: 3.2491 - val_accuracy: 0.6661\n",
            "Epoch 37/40\n",
            "1836/1836 [==============================] - 43s 24ms/step - loss: 0.4359 - accuracy: 0.8513 - val_loss: 3.4083 - val_accuracy: 0.6923\n",
            "Epoch 38/40\n",
            "1836/1836 [==============================] - 43s 23ms/step - loss: 0.5009 - accuracy: 0.8437 - val_loss: 2.6900 - val_accuracy: 0.6906\n",
            "Epoch 39/40\n",
            "1836/1836 [==============================] - 43s 23ms/step - loss: 0.3826 - accuracy: 0.8704 - val_loss: 3.2104 - val_accuracy: 0.6521\n",
            "Epoch 40/40\n",
            "1836/1836 [==============================] - 43s 23ms/step - loss: 0.4830 - accuracy: 0.8404 - val_loss: 3.2524 - val_accuracy: 0.6783\n"
          ]
        }
      ]
    },
    {
      "cell_type": "code",
      "source": [
        "test_directory = '/content/drive/MyDrive/P2_DeepLearning/birdclef-2023/random10_prep_data/test'\n",
        "\n",
        "test_datagen = ImageDataGenerator(rescale=1./255, validation_split = 0.9625)\n",
        "\n",
        "test_generator = test_datagen.flow_from_directory(\n",
        "    directory = test_directory,\n",
        "    target_size=(img_height, img_width),\n",
        "    color_mode = \"grayscale\",\n",
        "    batch_size= batchSize,\n",
        "    class_mode='categorical',\n",
        "    subset = 'validation',\n",
        "    shuffle = False) #since it's test, don't set shuffle to true\n"
      ],
      "metadata": {
        "id": "cbG_fxkm2G_S",
        "colab": {
          "base_uri": "https://localhost:8080/"
        },
        "outputId": "64eab953-d243-4d22-a6d2-eaeb16f4b1a8"
      },
      "execution_count": 184,
      "outputs": [
        {
          "output_type": "stream",
          "name": "stdout",
          "text": [
            "Found 544 images belonging to 10 classes.\n"
          ]
        }
      ]
    },
    {
      "cell_type": "code",
      "source": [
        "test_loss, test_accuracy = model.evaluate(test_generator, steps=test_generator.samples // batchSize)\n",
        "print(\"Test accuracy:\", test_accuracy)\n",
        "print(\"Test loss:\", test_loss)\n"
      ],
      "metadata": {
        "id": "VUCFS91S2JeV",
        "colab": {
          "base_uri": "https://localhost:8080/"
        },
        "outputId": "0dd68e8d-72d0-4e40-e171-25389d39ed81"
      },
      "execution_count": 185,
      "outputs": [
        {
          "output_type": "stream",
          "name": "stdout",
          "text": [
            "544/544 [==============================] - 6s 11ms/step - loss: 3.2186 - accuracy: 0.6710\n",
            "Test accuracy: 0.6709558963775635\n",
            "Test loss: 3.2186334133148193\n"
          ]
        }
      ]
    },
    {
      "cell_type": "code",
      "source": [
        "from sklearn.metrics import classification_report, confusion_matrix\n",
        "import random\n",
        "# # Predict classes\n",
        "#predictions = model.predict(test_generator, steps=test_generator.samples // 32)\n",
        "predictions = model.predict(test_generator, steps=test_generator.samples // batchSize)\n",
        "predicted_classes = np.argmax(predictions, axis=1)\n",
        "\n",
        "# # Get true labels\n",
        "#true_classes = random.sample(test_generator.classes, 544)\n",
        "true_classes = test_generator.classes\n",
        "#scores report\n",
        "report = classification_report(true_classes, predicted_classes, target_names=test_generator.class_indices.keys(), zero_division = 0)\n",
        "\n",
        "print(report)\n"
      ],
      "metadata": {
        "id": "86EkQOw62LxV",
        "colab": {
          "base_uri": "https://localhost:8080/"
        },
        "outputId": "a381923b-1892-40c1-c7cb-579e2d21422e"
      },
      "execution_count": 186,
      "outputs": [
        {
          "output_type": "stream",
          "name": "stdout",
          "text": [
            "544/544 [==============================] - 7s 13ms/step\n",
            "              precision    recall  f1-score   support\n",
            "\n",
            "     afbfly1       0.07      0.18      0.10        28\n",
            "     afdfly1       0.88      0.78      0.82        36\n",
            "     chespa1       0.00      0.00      0.00         1\n",
            "     chewea1       1.00      0.44      0.62         9\n",
            "     grywrw1       0.88      0.59      0.71        49\n",
            "     luebus1       0.68      0.68      0.68        31\n",
            "     nobfly1       0.62      0.14      0.23        35\n",
            "     rocmar2       0.20      0.35      0.25        26\n",
            "     somgre1       0.86      0.85      0.86       304\n",
            "     somtit4       0.35      0.24      0.29        25\n",
            "\n",
            "    accuracy                           0.67       544\n",
            "   macro avg       0.55      0.42      0.45       544\n",
            "weighted avg       0.74      0.67      0.69       544\n",
            "\n"
          ]
        }
      ]
    },
    {
      "cell_type": "code",
      "source": [
        "conf_matrix = confusion_matrix(true_classes, predicted_classes)\n",
        "print(conf_matrix)\n"
      ],
      "metadata": {
        "colab": {
          "base_uri": "https://localhost:8080/"
        },
        "id": "YsAf72HA0ufI",
        "outputId": "0551197c-4062-416e-813c-c495ecc69525"
      },
      "execution_count": 187,
      "outputs": [
        {
          "output_type": "stream",
          "name": "stdout",
          "text": [
            "[[  5   0   0   0   0   0   0  16   6   1]\n",
            " [  3  28   0   0   0   0   0   3   1   1]\n",
            " [  0   0   0   0   0   0   0   0   1   0]\n",
            " [  2   0   0   4   0   0   1   0   2   0]\n",
            " [  4   0   0   0  29   2   0   0  12   2]\n",
            " [  2   0   0   0   0  21   0   0   8   0]\n",
            " [ 15   1   0   0   0   0   5   8   4   2]\n",
            " [ 12   2   0   0   0   0   2   9   1   0]\n",
            " [ 20   1   0   0   4   7   0   9 258   5]\n",
            " [ 12   0   0   0   0   1   0   0   6   6]]\n"
          ]
        }
      ]
    }
  ]
}