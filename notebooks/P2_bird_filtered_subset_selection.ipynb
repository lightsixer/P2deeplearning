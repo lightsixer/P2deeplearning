{
  "cells": [
    {
      "cell_type": "markdown",
      "metadata": {
        "id": "view-in-github",
        "colab_type": "text"
      },
      "source": [
        "<a href=\"https://colab.research.google.com/github/lightsixer/P2deeplearning/blob/main/notebooks/P2_bird_filtered_subset_selection.ipynb\" target=\"_parent\"><img src=\"https://colab.research.google.com/assets/colab-badge.svg\" alt=\"Open In Colab\"/></a>"
      ]
    },
    {
      "cell_type": "code",
      "execution_count": null,
      "metadata": {
        "id": "cnCwtvV4gs5R"
      },
      "outputs": [],
      "source": [
        "# from google.colab import drive\n",
        "\n",
        "# drive.mount(\"/content/drive\")"
      ]
    },
    {
      "cell_type": "code",
      "execution_count": null,
      "metadata": {
        "id": "3lh3EMK_g6eY"
      },
      "outputs": [],
      "source": [
        "import os\n"
      ]
    },
    {
      "cell_type": "code",
      "execution_count": null,
      "metadata": {
        "id": "27RI7_wNg26O"
      },
      "outputs": [],
      "source": [
        "BASE_PATH = os.path.join(os.getcwd(), \"birdclef-2023\")"
      ]
    },
    {
      "cell_type": "code",
      "execution_count": null,
      "metadata": {
        "colab": {
          "base_uri": "https://localhost:8080/",
          "height": 573
        },
        "id": "JYfjM81rXxEl",
        "outputId": "7c0a3412-fc6f-4cf8-b2c8-16d27e069313"
      },
      "outputs": [
        {
          "data": {
            "text/html": [
              "<div>\n",
              "<style scoped>\n",
              "    .dataframe tbody tr th:only-of-type {\n",
              "        vertical-align: middle;\n",
              "    }\n",
              "\n",
              "    .dataframe tbody tr th {\n",
              "        vertical-align: top;\n",
              "    }\n",
              "\n",
              "    .dataframe thead th {\n",
              "        text-align: right;\n",
              "    }\n",
              "</style>\n",
              "<table border=\"1\" class=\"dataframe\">\n",
              "  <thead>\n",
              "    <tr style=\"text-align: right;\">\n",
              "      <th></th>\n",
              "      <th>primary_label</th>\n",
              "      <th>secondary_labels</th>\n",
              "      <th>type</th>\n",
              "      <th>latitude</th>\n",
              "      <th>longitude</th>\n",
              "      <th>scientific_name</th>\n",
              "      <th>common_name</th>\n",
              "      <th>author</th>\n",
              "      <th>license</th>\n",
              "      <th>rating</th>\n",
              "      <th>url</th>\n",
              "      <th>filename</th>\n",
              "    </tr>\n",
              "  </thead>\n",
              "  <tbody>\n",
              "    <tr>\n",
              "      <th>0</th>\n",
              "      <td>abethr1</td>\n",
              "      <td>[]</td>\n",
              "      <td>['song']</td>\n",
              "      <td>4.3906</td>\n",
              "      <td>38.2788</td>\n",
              "      <td>Turdus tephronotus</td>\n",
              "      <td>African Bare-eyed Thrush</td>\n",
              "      <td>Rolf A. de By</td>\n",
              "      <td>Creative Commons Attribution-NonCommercial-Sha...</td>\n",
              "      <td>4.0</td>\n",
              "      <td>https://www.xeno-canto.org/128013</td>\n",
              "      <td>abethr1/XC128013.ogg</td>\n",
              "    </tr>\n",
              "    <tr>\n",
              "      <th>1</th>\n",
              "      <td>abethr1</td>\n",
              "      <td>[]</td>\n",
              "      <td>['call']</td>\n",
              "      <td>-2.9524</td>\n",
              "      <td>38.2921</td>\n",
              "      <td>Turdus tephronotus</td>\n",
              "      <td>African Bare-eyed Thrush</td>\n",
              "      <td>James Bradley</td>\n",
              "      <td>Creative Commons Attribution-NonCommercial-Sha...</td>\n",
              "      <td>3.5</td>\n",
              "      <td>https://www.xeno-canto.org/363501</td>\n",
              "      <td>abethr1/XC363501.ogg</td>\n",
              "    </tr>\n",
              "    <tr>\n",
              "      <th>2</th>\n",
              "      <td>abethr1</td>\n",
              "      <td>[]</td>\n",
              "      <td>['song']</td>\n",
              "      <td>-2.9524</td>\n",
              "      <td>38.2921</td>\n",
              "      <td>Turdus tephronotus</td>\n",
              "      <td>African Bare-eyed Thrush</td>\n",
              "      <td>James Bradley</td>\n",
              "      <td>Creative Commons Attribution-NonCommercial-Sha...</td>\n",
              "      <td>3.5</td>\n",
              "      <td>https://www.xeno-canto.org/363502</td>\n",
              "      <td>abethr1/XC363502.ogg</td>\n",
              "    </tr>\n",
              "    <tr>\n",
              "      <th>3</th>\n",
              "      <td>abethr1</td>\n",
              "      <td>[]</td>\n",
              "      <td>['song']</td>\n",
              "      <td>-2.9524</td>\n",
              "      <td>38.2921</td>\n",
              "      <td>Turdus tephronotus</td>\n",
              "      <td>African Bare-eyed Thrush</td>\n",
              "      <td>James Bradley</td>\n",
              "      <td>Creative Commons Attribution-NonCommercial-Sha...</td>\n",
              "      <td>5.0</td>\n",
              "      <td>https://www.xeno-canto.org/363503</td>\n",
              "      <td>abethr1/XC363503.ogg</td>\n",
              "    </tr>\n",
              "    <tr>\n",
              "      <th>4</th>\n",
              "      <td>abethr1</td>\n",
              "      <td>[]</td>\n",
              "      <td>['call', 'song']</td>\n",
              "      <td>-2.9524</td>\n",
              "      <td>38.2921</td>\n",
              "      <td>Turdus tephronotus</td>\n",
              "      <td>African Bare-eyed Thrush</td>\n",
              "      <td>James Bradley</td>\n",
              "      <td>Creative Commons Attribution-NonCommercial-Sha...</td>\n",
              "      <td>4.5</td>\n",
              "      <td>https://www.xeno-canto.org/363504</td>\n",
              "      <td>abethr1/XC363504.ogg</td>\n",
              "    </tr>\n",
              "  </tbody>\n",
              "</table>\n",
              "</div>"
            ],
            "text/plain": [
              "  primary_label secondary_labels              type  latitude  longitude  \\\n",
              "0       abethr1               []          ['song']    4.3906    38.2788   \n",
              "1       abethr1               []          ['call']   -2.9524    38.2921   \n",
              "2       abethr1               []          ['song']   -2.9524    38.2921   \n",
              "3       abethr1               []          ['song']   -2.9524    38.2921   \n",
              "4       abethr1               []  ['call', 'song']   -2.9524    38.2921   \n",
              "\n",
              "      scientific_name               common_name         author  \\\n",
              "0  Turdus tephronotus  African Bare-eyed Thrush  Rolf A. de By   \n",
              "1  Turdus tephronotus  African Bare-eyed Thrush  James Bradley   \n",
              "2  Turdus tephronotus  African Bare-eyed Thrush  James Bradley   \n",
              "3  Turdus tephronotus  African Bare-eyed Thrush  James Bradley   \n",
              "4  Turdus tephronotus  African Bare-eyed Thrush  James Bradley   \n",
              "\n",
              "                                             license  rating  \\\n",
              "0  Creative Commons Attribution-NonCommercial-Sha...     4.0   \n",
              "1  Creative Commons Attribution-NonCommercial-Sha...     3.5   \n",
              "2  Creative Commons Attribution-NonCommercial-Sha...     3.5   \n",
              "3  Creative Commons Attribution-NonCommercial-Sha...     5.0   \n",
              "4  Creative Commons Attribution-NonCommercial-Sha...     4.5   \n",
              "\n",
              "                                 url              filename  \n",
              "0  https://www.xeno-canto.org/128013  abethr1/XC128013.ogg  \n",
              "1  https://www.xeno-canto.org/363501  abethr1/XC363501.ogg  \n",
              "2  https://www.xeno-canto.org/363502  abethr1/XC363502.ogg  \n",
              "3  https://www.xeno-canto.org/363503  abethr1/XC363503.ogg  \n",
              "4  https://www.xeno-canto.org/363504  abethr1/XC363504.ogg  "
            ]
          },
          "metadata": {},
          "output_type": "display_data"
        }
      ],
      "source": [
        "import numpy as np\n",
        "import pandas as pd\n",
        "\n",
        "train_meta_path = f'{BASE_PATH}/train_metadata.csv'\n",
        "train_md = pd.read_csv(train_meta_path)\n",
        "display(train_md.head())"
      ]
    },
    {
      "cell_type": "code",
      "execution_count": null,
      "metadata": {
        "id": "VTNcITffm_Uq"
      },
      "outputs": [],
      "source": [
        "train_md = train_md.query(f\"rating>=4\")"
      ]
    },
    {
      "cell_type": "code",
      "execution_count": null,
      "metadata": {
        "id": "4qrWGT_CnHJO"
      },
      "outputs": [],
      "source": [
        "label_counts = train_md['primary_label'].value_counts()\n",
        "labels_to_keep = label_counts[label_counts >= 250].index\n",
        "filtered_train_md = train_md[train_md['primary_label'].isin(labels_to_keep)]\n"
      ]
    },
    {
      "cell_type": "code",
      "execution_count": null,
      "metadata": {
        "colab": {
          "base_uri": "https://localhost:8080/"
        },
        "id": "XaaZfHtJnuUd",
        "outputId": "3a643fad-2ee0-4998-eee7-126aa665c6f8"
      },
      "outputs": [
        {
          "data": {
            "text/plain": [
              "(2936, 12)"
            ]
          },
          "execution_count": 7,
          "metadata": {},
          "output_type": "execute_result"
        }
      ],
      "source": [
        "filtered_train_md.shape"
      ]
    },
    {
      "cell_type": "code",
      "execution_count": null,
      "metadata": {
        "colab": {
          "base_uri": "https://localhost:8080/"
        },
        "id": "9GVBXCN0Yxg8",
        "outputId": "53154870-09d3-47f8-ac4d-ce4d1d478541"
      },
      "outputs": [
        {
          "name": "stdout",
          "output_type": "stream",
          "text": [
            "['barswa' 'cohmar1' 'combuz1' 'comsan' 'eaywag1' 'eubeat1' 'litegr'\n",
            " 'thrnig1' 'wlwwar' 'woosan']\n"
          ]
        },
        {
          "data": {
            "text/plain": [
              "numpy.ndarray"
            ]
          },
          "execution_count": 8,
          "metadata": {},
          "output_type": "execute_result"
        }
      ],
      "source": [
        "# get the unique primary labels from the train_metadata dataset,\n",
        "# which correspond to the subfolders in the training audio set\n",
        "\n",
        "labels = filtered_train_md['primary_label'].unique()\n",
        "print(labels)\n",
        "type(labels)"
      ]
    },
    {
      "cell_type": "code",
      "execution_count": null,
      "metadata": {
        "colab": {
          "base_uri": "https://localhost:8080/"
        },
        "id": "SJH_vOsDoW1K",
        "outputId": "266c29e8-f908-4d62-f878-09094310cccd"
      },
      "outputs": [
        {
          "data": {
            "text/plain": [
              "thrnig1    338\n",
              "wlwwar     322\n",
              "woosan     317\n",
              "barswa     300\n",
              "litegr     291\n",
              "comsan     286\n",
              "eaywag1    285\n",
              "combuz1    282\n",
              "cohmar1    260\n",
              "eubeat1    255\n",
              "Name: primary_label, dtype: int64"
            ]
          },
          "execution_count": 9,
          "metadata": {},
          "output_type": "execute_result"
        }
      ],
      "source": [
        "filtered_train_md['primary_label'].value_counts()"
      ]
    },
    {
      "cell_type": "code",
      "execution_count": null,
      "metadata": {
        "colab": {
          "base_uri": "https://localhost:8080/",
          "height": 1000
        },
        "id": "dLg0ZYBupGLA",
        "outputId": "74d5f32c-e002-4770-8925-b055fee93129"
      },
      "outputs": [
        {
          "data": {
            "text/html": [
              "<div>\n",
              "<style scoped>\n",
              "    .dataframe tbody tr th:only-of-type {\n",
              "        vertical-align: middle;\n",
              "    }\n",
              "\n",
              "    .dataframe tbody tr th {\n",
              "        vertical-align: top;\n",
              "    }\n",
              "\n",
              "    .dataframe thead th {\n",
              "        text-align: right;\n",
              "    }\n",
              "</style>\n",
              "<table border=\"1\" class=\"dataframe\">\n",
              "  <thead>\n",
              "    <tr style=\"text-align: right;\">\n",
              "      <th></th>\n",
              "      <th>primary_label</th>\n",
              "      <th>secondary_labels</th>\n",
              "      <th>type</th>\n",
              "      <th>latitude</th>\n",
              "      <th>longitude</th>\n",
              "      <th>scientific_name</th>\n",
              "      <th>common_name</th>\n",
              "      <th>author</th>\n",
              "      <th>license</th>\n",
              "      <th>rating</th>\n",
              "      <th>url</th>\n",
              "      <th>filename</th>\n",
              "    </tr>\n",
              "  </thead>\n",
              "  <tbody>\n",
              "    <tr>\n",
              "      <th>896</th>\n",
              "      <td>barswa</td>\n",
              "      <td>[]</td>\n",
              "      <td>['song']</td>\n",
              "      <td>35.0307</td>\n",
              "      <td>-120.6205</td>\n",
              "      <td>Hirundo rustica</td>\n",
              "      <td>Barn Swallow</td>\n",
              "      <td>Thomas G. Graves</td>\n",
              "      <td>Creative Commons Attribution-NonCommercial-Sha...</td>\n",
              "      <td>4.5</td>\n",
              "      <td>https://www.xeno-canto.org/129647</td>\n",
              "      <td>barswa/XC129647.ogg</td>\n",
              "    </tr>\n",
              "    <tr>\n",
              "      <th>900</th>\n",
              "      <td>barswa</td>\n",
              "      <td>[]</td>\n",
              "      <td>['song']</td>\n",
              "      <td>51.4226</td>\n",
              "      <td>23.1201</td>\n",
              "      <td>Hirundo rustica</td>\n",
              "      <td>Barn Swallow</td>\n",
              "      <td>Jarek Matusiak</td>\n",
              "      <td>Creative Commons Attribution-NonCommercial-Sha...</td>\n",
              "      <td>5.0</td>\n",
              "      <td>https://www.xeno-canto.org/134349</td>\n",
              "      <td>barswa/XC134349.ogg</td>\n",
              "    </tr>\n",
              "    <tr>\n",
              "      <th>901</th>\n",
              "      <td>barswa</td>\n",
              "      <td>[]</td>\n",
              "      <td>['call', 'song']</td>\n",
              "      <td>35.0620</td>\n",
              "      <td>-85.1660</td>\n",
              "      <td>Hirundo rustica</td>\n",
              "      <td>Barn Swallow</td>\n",
              "      <td>Mike Nelson</td>\n",
              "      <td>Creative Commons Attribution-NonCommercial-Sha...</td>\n",
              "      <td>4.0</td>\n",
              "      <td>https://www.xeno-canto.org/135474</td>\n",
              "      <td>barswa/XC135474.ogg</td>\n",
              "    </tr>\n",
              "    <tr>\n",
              "      <th>902</th>\n",
              "      <td>barswa</td>\n",
              "      <td>[]</td>\n",
              "      <td>['flight call']</td>\n",
              "      <td>41.5811</td>\n",
              "      <td>1.8017</td>\n",
              "      <td>Hirundo rustica</td>\n",
              "      <td>Barn Swallow</td>\n",
              "      <td>Jordi Calvet</td>\n",
              "      <td>Creative Commons Attribution-NonCommercial-Sha...</td>\n",
              "      <td>5.0</td>\n",
              "      <td>https://www.xeno-canto.org/139171</td>\n",
              "      <td>barswa/XC139171.ogg</td>\n",
              "    </tr>\n",
              "    <tr>\n",
              "      <th>903</th>\n",
              "      <td>barswa</td>\n",
              "      <td>[]</td>\n",
              "      <td>['call', 'song']</td>\n",
              "      <td>30.0801</td>\n",
              "      <td>-99.5027</td>\n",
              "      <td>Hirundo rustica</td>\n",
              "      <td>Barn Swallow</td>\n",
              "      <td>Mike Nelson</td>\n",
              "      <td>Creative Commons Attribution-NonCommercial-Sha...</td>\n",
              "      <td>4.5</td>\n",
              "      <td>https://www.xeno-canto.org/141346</td>\n",
              "      <td>barswa/XC141346.ogg</td>\n",
              "    </tr>\n",
              "    <tr>\n",
              "      <th>...</th>\n",
              "      <td>...</td>\n",
              "      <td>...</td>\n",
              "      <td>...</td>\n",
              "      <td>...</td>\n",
              "      <td>...</td>\n",
              "      <td>...</td>\n",
              "      <td>...</td>\n",
              "      <td>...</td>\n",
              "      <td>...</td>\n",
              "      <td>...</td>\n",
              "      <td>...</td>\n",
              "      <td>...</td>\n",
              "    </tr>\n",
              "    <tr>\n",
              "      <th>16260</th>\n",
              "      <td>woosan</td>\n",
              "      <td>[]</td>\n",
              "      <td>['']</td>\n",
              "      <td>47.8596</td>\n",
              "      <td>11.0645</td>\n",
              "      <td>Tringa glareola</td>\n",
              "      <td>Wood Sandpiper</td>\n",
              "      <td>Beatrix Saadi-Varchmin</td>\n",
              "      <td>Creative Commons Attribution-NonCommercial-Sha...</td>\n",
              "      <td>4.5</td>\n",
              "      <td>https://xeno-canto.org/749410</td>\n",
              "      <td>woosan/XC749410.ogg</td>\n",
              "    </tr>\n",
              "    <tr>\n",
              "      <th>16262</th>\n",
              "      <td>woosan</td>\n",
              "      <td>[]</td>\n",
              "      <td>['']</td>\n",
              "      <td>64.1910</td>\n",
              "      <td>21.1130</td>\n",
              "      <td>Tringa glareola</td>\n",
              "      <td>Wood Sandpiper</td>\n",
              "      <td>Alan Dalton</td>\n",
              "      <td>Creative Commons Attribution-NonCommercial-Sha...</td>\n",
              "      <td>5.0</td>\n",
              "      <td>https://xeno-canto.org/754702</td>\n",
              "      <td>woosan/XC754702.ogg</td>\n",
              "    </tr>\n",
              "    <tr>\n",
              "      <th>16263</th>\n",
              "      <td>woosan</td>\n",
              "      <td>[]</td>\n",
              "      <td>['']</td>\n",
              "      <td>58.7396</td>\n",
              "      <td>17.8657</td>\n",
              "      <td>Tringa glareola</td>\n",
              "      <td>Wood Sandpiper</td>\n",
              "      <td>Alan Dalton</td>\n",
              "      <td>Creative Commons Attribution-NonCommercial-Sha...</td>\n",
              "      <td>5.0</td>\n",
              "      <td>https://xeno-canto.org/754763</td>\n",
              "      <td>woosan/XC754763.ogg</td>\n",
              "    </tr>\n",
              "    <tr>\n",
              "      <th>16264</th>\n",
              "      <td>woosan</td>\n",
              "      <td>[]</td>\n",
              "      <td>['']</td>\n",
              "      <td>58.7396</td>\n",
              "      <td>17.8657</td>\n",
              "      <td>Tringa glareola</td>\n",
              "      <td>Wood Sandpiper</td>\n",
              "      <td>Alan Dalton</td>\n",
              "      <td>Creative Commons Attribution-NonCommercial-Sha...</td>\n",
              "      <td>5.0</td>\n",
              "      <td>https://xeno-canto.org/754765</td>\n",
              "      <td>woosan/XC754765.ogg</td>\n",
              "    </tr>\n",
              "    <tr>\n",
              "      <th>16265</th>\n",
              "      <td>woosan</td>\n",
              "      <td>[]</td>\n",
              "      <td>['']</td>\n",
              "      <td>58.7396</td>\n",
              "      <td>17.8657</td>\n",
              "      <td>Tringa glareola</td>\n",
              "      <td>Wood Sandpiper</td>\n",
              "      <td>Alan Dalton</td>\n",
              "      <td>Creative Commons Attribution-NonCommercial-Sha...</td>\n",
              "      <td>4.0</td>\n",
              "      <td>https://xeno-canto.org/754766</td>\n",
              "      <td>woosan/XC754766.ogg</td>\n",
              "    </tr>\n",
              "  </tbody>\n",
              "</table>\n",
              "<p>2936 rows × 12 columns</p>\n",
              "</div>"
            ],
            "text/plain": [
              "      primary_label secondary_labels              type  latitude  longitude  \\\n",
              "896          barswa               []          ['song']   35.0307  -120.6205   \n",
              "900          barswa               []          ['song']   51.4226    23.1201   \n",
              "901          barswa               []  ['call', 'song']   35.0620   -85.1660   \n",
              "902          barswa               []   ['flight call']   41.5811     1.8017   \n",
              "903          barswa               []  ['call', 'song']   30.0801   -99.5027   \n",
              "...             ...              ...               ...       ...        ...   \n",
              "16260        woosan               []              ['']   47.8596    11.0645   \n",
              "16262        woosan               []              ['']   64.1910    21.1130   \n",
              "16263        woosan               []              ['']   58.7396    17.8657   \n",
              "16264        woosan               []              ['']   58.7396    17.8657   \n",
              "16265        woosan               []              ['']   58.7396    17.8657   \n",
              "\n",
              "       scientific_name     common_name                  author  \\\n",
              "896    Hirundo rustica    Barn Swallow        Thomas G. Graves   \n",
              "900    Hirundo rustica    Barn Swallow          Jarek Matusiak   \n",
              "901    Hirundo rustica    Barn Swallow             Mike Nelson   \n",
              "902    Hirundo rustica    Barn Swallow            Jordi Calvet   \n",
              "903    Hirundo rustica    Barn Swallow             Mike Nelson   \n",
              "...                ...             ...                     ...   \n",
              "16260  Tringa glareola  Wood Sandpiper  Beatrix Saadi-Varchmin   \n",
              "16262  Tringa glareola  Wood Sandpiper             Alan Dalton   \n",
              "16263  Tringa glareola  Wood Sandpiper             Alan Dalton   \n",
              "16264  Tringa glareola  Wood Sandpiper             Alan Dalton   \n",
              "16265  Tringa glareola  Wood Sandpiper             Alan Dalton   \n",
              "\n",
              "                                                 license  rating  \\\n",
              "896    Creative Commons Attribution-NonCommercial-Sha...     4.5   \n",
              "900    Creative Commons Attribution-NonCommercial-Sha...     5.0   \n",
              "901    Creative Commons Attribution-NonCommercial-Sha...     4.0   \n",
              "902    Creative Commons Attribution-NonCommercial-Sha...     5.0   \n",
              "903    Creative Commons Attribution-NonCommercial-Sha...     4.5   \n",
              "...                                                  ...     ...   \n",
              "16260  Creative Commons Attribution-NonCommercial-Sha...     4.5   \n",
              "16262  Creative Commons Attribution-NonCommercial-Sha...     5.0   \n",
              "16263  Creative Commons Attribution-NonCommercial-Sha...     5.0   \n",
              "16264  Creative Commons Attribution-NonCommercial-Sha...     5.0   \n",
              "16265  Creative Commons Attribution-NonCommercial-Sha...     4.0   \n",
              "\n",
              "                                     url             filename  \n",
              "896    https://www.xeno-canto.org/129647  barswa/XC129647.ogg  \n",
              "900    https://www.xeno-canto.org/134349  barswa/XC134349.ogg  \n",
              "901    https://www.xeno-canto.org/135474  barswa/XC135474.ogg  \n",
              "902    https://www.xeno-canto.org/139171  barswa/XC139171.ogg  \n",
              "903    https://www.xeno-canto.org/141346  barswa/XC141346.ogg  \n",
              "...                                  ...                  ...  \n",
              "16260      https://xeno-canto.org/749410  woosan/XC749410.ogg  \n",
              "16262      https://xeno-canto.org/754702  woosan/XC754702.ogg  \n",
              "16263      https://xeno-canto.org/754763  woosan/XC754763.ogg  \n",
              "16264      https://xeno-canto.org/754765  woosan/XC754765.ogg  \n",
              "16265      https://xeno-canto.org/754766  woosan/XC754766.ogg  \n",
              "\n",
              "[2936 rows x 12 columns]"
            ]
          },
          "execution_count": 10,
          "metadata": {},
          "output_type": "execute_result"
        }
      ],
      "source": [
        "filtered_train_md"
      ]
    },
    {
      "cell_type": "code",
      "execution_count": null,
      "metadata": {
        "id": "AUasDXQEpw8J"
      },
      "outputs": [],
      "source": [
        "from sklearn.model_selection import train_test_split\n",
        "import pandas as pd\n",
        "\n",
        "# Assuming your_dataframe is your DataFrame\n",
        "unique_labels = filtered_train_md['primary_label'].unique()\n",
        "\n",
        "# Initialize empty DataFrames for train, validation, and test sets\n",
        "train_frames = []\n",
        "val_frames = []\n",
        "test_frames = []\n",
        "\n",
        "for label in unique_labels:\n",
        "    # Filter the DataFrame for the current label\n",
        "    label_df = filtered_train_md[filtered_train_md['primary_label'] == label]\n",
        "\n",
        "    # Split into train and temp (temp will be further split into validation and test)\n",
        "    train, temp = train_test_split(label_df, test_size=0.4, random_state=42)\n",
        "    # Further split temp into validation and test\n",
        "    val, test = train_test_split(temp, test_size=0.5, random_state=42)\n",
        "\n",
        "    # Append the splits to their respective lists\n",
        "    train_frames.append(train)\n",
        "    val_frames.append(val)\n",
        "    test_frames.append(test)\n",
        "\n",
        "# Concatenate all frames to get final train, validation, and test sets\n",
        "final_train_df = pd.concat(train_frames)\n",
        "final_val_df = pd.concat(val_frames)\n",
        "final_test_df = pd.concat(test_frames)\n"
      ]
    },
    {
      "cell_type": "code",
      "execution_count": null,
      "metadata": {
        "colab": {
          "base_uri": "https://localhost:8080/"
        },
        "id": "K78YQ_d5p1Dt",
        "outputId": "fae10aac-1284-44c1-af11-3101db69b5e4"
      },
      "outputs": [
        {
          "data": {
            "text/plain": [
              "thrnig1    202\n",
              "wlwwar     193\n",
              "woosan     190\n",
              "barswa     180\n",
              "litegr     174\n",
              "comsan     171\n",
              "eaywag1    171\n",
              "combuz1    169\n",
              "cohmar1    156\n",
              "eubeat1    153\n",
              "Name: primary_label, dtype: int64"
            ]
          },
          "execution_count": 12,
          "metadata": {},
          "output_type": "execute_result"
        }
      ],
      "source": [
        "final_train_df['primary_label'].value_counts()"
      ]
    },
    {
      "cell_type": "code",
      "execution_count": null,
      "metadata": {
        "colab": {
          "base_uri": "https://localhost:8080/"
        },
        "id": "8r9uhtybp7Ks",
        "outputId": "5081046f-def1-4cce-81c0-16687332a8a5"
      },
      "outputs": [
        {
          "data": {
            "text/plain": [
              "thrnig1    68\n",
              "wlwwar     65\n",
              "woosan     64\n",
              "barswa     60\n",
              "litegr     59\n",
              "comsan     58\n",
              "combuz1    57\n",
              "eaywag1    57\n",
              "cohmar1    52\n",
              "eubeat1    51\n",
              "Name: primary_label, dtype: int64"
            ]
          },
          "execution_count": 13,
          "metadata": {},
          "output_type": "execute_result"
        }
      ],
      "source": [
        "final_test_df['primary_label'].value_counts()"
      ]
    },
    {
      "cell_type": "code",
      "execution_count": null,
      "metadata": {
        "colab": {
          "base_uri": "https://localhost:8080/"
        },
        "id": "te51rnPbp-AW",
        "outputId": "69d5a48d-d66c-48e2-cc6e-688515602115"
      },
      "outputs": [
        {
          "data": {
            "text/plain": [
              "thrnig1    68\n",
              "wlwwar     65\n",
              "woosan     64\n",
              "barswa     60\n",
              "litegr     59\n",
              "comsan     58\n",
              "combuz1    57\n",
              "eaywag1    57\n",
              "cohmar1    52\n",
              "eubeat1    51\n",
              "Name: primary_label, dtype: int64"
            ]
          },
          "execution_count": 14,
          "metadata": {},
          "output_type": "execute_result"
        }
      ],
      "source": [
        "final_test_df['primary_label'].value_counts()"
      ]
    },
    {
      "cell_type": "code",
      "execution_count": null,
      "metadata": {
        "id": "ylCOmF52qnzj"
      },
      "outputs": [],
      "source": [
        "final_train_df.to_csv(f'{BASE_PATH}/prep_data/train_metadata.csv', index=False)\n",
        "final_test_df.to_csv(f'{BASE_PATH}/prep_data/test_metadata.csv', index=False)\n",
        "final_test_df.to_csv(f'{BASE_PATH}/prep_data/val_metadata.csv', index=False)"
      ]
    },
    {
      "cell_type": "code",
      "execution_count": null,
      "metadata": {
        "id": "dG_Nm2rYtKqh"
      },
      "outputs": [],
      "source": [
        "final_train_df = final_train_df.reset_index(drop=True)\n",
        "final_test_df = final_test_df.reset_index(drop=True)\n",
        "final_val_df = final_val_df.reset_index(drop=True)"
      ]
    },
    {
      "cell_type": "code",
      "execution_count": null,
      "metadata": {
        "colab": {
          "base_uri": "https://localhost:8080/"
        },
        "id": "s-a_whd0rIBi",
        "outputId": "cc29121c-aeb9-4b08-c014-1b29e7dc7ba2"
      },
      "outputs": [
        {
          "name": "stdout",
          "output_type": "stream",
          "text": [
            "Requirement already satisfied: noisereduce in /Users/tiru/anaconda3/lib/python3.10/site-packages (3.0.0)\n",
            "Requirement already satisfied: scipy in /Users/tiru/anaconda3/lib/python3.10/site-packages (from noisereduce) (1.10.0)\n",
            "Requirement already satisfied: matplotlib in /Users/tiru/anaconda3/lib/python3.10/site-packages (from noisereduce) (3.7.0)\n",
            "Requirement already satisfied: librosa in /Users/tiru/anaconda3/lib/python3.10/site-packages (from noisereduce) (0.10.1)\n",
            "Requirement already satisfied: tqdm in /Users/tiru/anaconda3/lib/python3.10/site-packages (from noisereduce) (4.64.1)\n",
            "Requirement already satisfied: numpy in /Users/tiru/anaconda3/lib/python3.10/site-packages (from noisereduce) (1.23.5)\n",
            "Requirement already satisfied: joblib>=0.14 in /Users/tiru/anaconda3/lib/python3.10/site-packages (from librosa->noisereduce) (1.1.1)\n",
            "Requirement already satisfied: numba>=0.51.0 in /Users/tiru/anaconda3/lib/python3.10/site-packages (from librosa->noisereduce) (0.56.4)\n",
            "Requirement already satisfied: soxr>=0.3.2 in /Users/tiru/anaconda3/lib/python3.10/site-packages (from librosa->noisereduce) (0.3.7)\n",
            "Requirement already satisfied: audioread>=2.1.9 in /Users/tiru/anaconda3/lib/python3.10/site-packages (from librosa->noisereduce) (3.0.1)\n",
            "Requirement already satisfied: pooch>=1.0 in /Users/tiru/anaconda3/lib/python3.10/site-packages (from librosa->noisereduce) (1.4.0)\n",
            "Requirement already satisfied: lazy-loader>=0.1 in /Users/tiru/anaconda3/lib/python3.10/site-packages (from librosa->noisereduce) (0.3)\n",
            "Requirement already satisfied: msgpack>=1.0 in /Users/tiru/anaconda3/lib/python3.10/site-packages (from librosa->noisereduce) (1.0.3)\n",
            "Requirement already satisfied: typing-extensions>=4.1.1 in /Users/tiru/anaconda3/lib/python3.10/site-packages (from librosa->noisereduce) (4.4.0)\n",
            "Requirement already satisfied: soundfile>=0.12.1 in /Users/tiru/anaconda3/lib/python3.10/site-packages (from librosa->noisereduce) (0.12.1)\n",
            "Requirement already satisfied: scikit-learn>=0.20.0 in /Users/tiru/anaconda3/lib/python3.10/site-packages (from librosa->noisereduce) (1.2.1)\n",
            "Requirement already satisfied: decorator>=4.3.0 in /Users/tiru/anaconda3/lib/python3.10/site-packages (from librosa->noisereduce) (5.1.1)\n",
            "Requirement already satisfied: fonttools>=4.22.0 in /Users/tiru/anaconda3/lib/python3.10/site-packages (from matplotlib->noisereduce) (4.25.0)\n",
            "Requirement already satisfied: contourpy>=1.0.1 in /Users/tiru/anaconda3/lib/python3.10/site-packages (from matplotlib->noisereduce) (1.0.5)\n",
            "Requirement already satisfied: kiwisolver>=1.0.1 in /Users/tiru/anaconda3/lib/python3.10/site-packages (from matplotlib->noisereduce) (1.4.4)\n",
            "Requirement already satisfied: cycler>=0.10 in /Users/tiru/anaconda3/lib/python3.10/site-packages (from matplotlib->noisereduce) (0.11.0)\n",
            "Requirement already satisfied: pyparsing>=2.3.1 in /Users/tiru/anaconda3/lib/python3.10/site-packages (from matplotlib->noisereduce) (3.0.9)\n",
            "Requirement already satisfied: python-dateutil>=2.7 in /Users/tiru/anaconda3/lib/python3.10/site-packages (from matplotlib->noisereduce) (2.8.2)\n",
            "Requirement already satisfied: packaging>=20.0 in /Users/tiru/anaconda3/lib/python3.10/site-packages (from matplotlib->noisereduce) (22.0)\n",
            "Requirement already satisfied: pillow>=6.2.0 in /Users/tiru/anaconda3/lib/python3.10/site-packages (from matplotlib->noisereduce) (9.4.0)\n",
            "Requirement already satisfied: setuptools in /Users/tiru/anaconda3/lib/python3.10/site-packages (from numba>=0.51.0->librosa->noisereduce) (65.6.3)\n",
            "Requirement already satisfied: llvmlite<0.40,>=0.39.0dev0 in /Users/tiru/anaconda3/lib/python3.10/site-packages (from numba>=0.51.0->librosa->noisereduce) (0.39.1)\n",
            "Requirement already satisfied: appdirs in /Users/tiru/anaconda3/lib/python3.10/site-packages (from pooch>=1.0->librosa->noisereduce) (1.4.4)\n",
            "Requirement already satisfied: requests in /Users/tiru/anaconda3/lib/python3.10/site-packages (from pooch>=1.0->librosa->noisereduce) (2.28.1)\n",
            "Requirement already satisfied: six>=1.5 in /Users/tiru/anaconda3/lib/python3.10/site-packages (from python-dateutil>=2.7->matplotlib->noisereduce) (1.16.0)\n",
            "Requirement already satisfied: threadpoolctl>=2.0.0 in /Users/tiru/anaconda3/lib/python3.10/site-packages (from scikit-learn>=0.20.0->librosa->noisereduce) (2.2.0)\n",
            "Requirement already satisfied: cffi>=1.0 in /Users/tiru/anaconda3/lib/python3.10/site-packages (from soundfile>=0.12.1->librosa->noisereduce) (1.15.1)\n",
            "Requirement already satisfied: pycparser in /Users/tiru/anaconda3/lib/python3.10/site-packages (from cffi>=1.0->soundfile>=0.12.1->librosa->noisereduce) (2.21)\n",
            "Requirement already satisfied: urllib3<1.27,>=1.21.1 in /Users/tiru/anaconda3/lib/python3.10/site-packages (from requests->pooch>=1.0->librosa->noisereduce) (1.26.14)\n",
            "Requirement already satisfied: charset-normalizer<3,>=2 in /Users/tiru/anaconda3/lib/python3.10/site-packages (from requests->pooch>=1.0->librosa->noisereduce) (2.0.4)\n",
            "Requirement already satisfied: certifi>=2017.4.17 in /Users/tiru/anaconda3/lib/python3.10/site-packages (from requests->pooch>=1.0->librosa->noisereduce) (2022.12.7)\n",
            "Requirement already satisfied: idna<4,>=2.5 in /Users/tiru/anaconda3/lib/python3.10/site-packages (from requests->pooch>=1.0->librosa->noisereduce) (3.4)\n"
          ]
        }
      ],
      "source": [
        "!pip install noisereduce"
      ]
    },
    {
      "cell_type": "code",
      "execution_count": null,
      "metadata": {
        "id": "8rfUDXXNr3wL",
        "outputId": "aef4314a-7cbe-4174-86aa-77fccb3ef329"
      },
      "outputs": [
        {
          "name": "stderr",
          "output_type": "stream",
          "text": [
            "/Users/tiru/anaconda3/lib/python3.10/site-packages/tqdm/auto.py:22: TqdmWarning: IProgress not found. Please update jupyter and ipywidgets. See https://ipywidgets.readthedocs.io/en/stable/user_install.html\n",
            "  from .autonotebook import tqdm as notebook_tqdm\n"
          ]
        }
      ],
      "source": [
        "import noisereduce as nr\n",
        "import librosa\n",
        "import librosa.display\n",
        "import numpy as np\n",
        "import matplotlib.pyplot as plt"
      ]
    },
    {
      "cell_type": "code",
      "execution_count": null,
      "metadata": {
        "id": "cy2pvEqQr4Ur"
      },
      "outputs": [],
      "source": [
        "def reduce_noise(input_file):\n",
        "    y, sr = librosa.load(input_file, sr=None)\n",
        "    return nr.reduce_noise(y=y, sr=sr), sr"
      ]
    },
    {
      "cell_type": "code",
      "execution_count": null,
      "metadata": {
        "id": "PxWQIleZr6Lw"
      },
      "outputs": [],
      "source": [
        "def detect_active_regions(y, sr, threshold=0.02, frame_length=2048, hop_length=512, min_region_duration=5):\n",
        "    D = np.abs(librosa.stft(y, n_fft=frame_length, hop_length=hop_length))\n",
        "    amplitude = np.sum(D, axis=0)\n",
        "\n",
        "    # Find active frames\n",
        "    active_frames = np.where(amplitude > threshold)[0]\n",
        "\n",
        "    # Merge overlapping active regions\n",
        "    active_regions = []\n",
        "    start_frame = active_frames[0]\n",
        "    for frame in active_frames:\n",
        "        if frame - start_frame > int(min_region_duration * sr / hop_length):\n",
        "            active_regions.append((start_frame, frame))\n",
        "            start_frame = frame\n",
        "\n",
        "    # Convert active regions to time\n",
        "    active_times = []\n",
        "    for start_frame, end_frame in active_regions:\n",
        "        start_time = librosa.frames_to_time(start_frame, sr=sr, hop_length=hop_length)\n",
        "        end_time = librosa.frames_to_time(end_frame, sr=sr, hop_length=hop_length)\n",
        "        active_times.append((start_time, end_time))\n",
        "\n",
        "    return active_times\n"
      ]
    },
    {
      "cell_type": "code",
      "execution_count": null,
      "metadata": {
        "id": "r5b_AD_Hr7xY"
      },
      "outputs": [],
      "source": [
        "def extract_active_segment(y, sr, active_times, segment_duration=5.0):\n",
        "    if not active_times.size:\n",
        "        return None, None\n",
        "    start_time = active_times[0]\n",
        "    end_time = start_time + segment_duration\n",
        "    if end_time > librosa.get_duration(y=y, sr=sr):\n",
        "        end_time = librosa.get_duration(y=y, sr=sr)\n",
        "    return librosa.time_to_samples(start_time, sr=sr), librosa.time_to_samples(end_time, sr=sr)"
      ]
    },
    {
      "cell_type": "code",
      "execution_count": null,
      "metadata": {
        "id": "l6C6IjvRr-Tb"
      },
      "outputs": [],
      "source": [
        "def generate_spectrogram(y, sr, save_path):\n",
        "    S = librosa.feature.melspectrogram(y=y, sr=sr, n_mels=128)\n",
        "    log_S = librosa.power_to_db(S, ref=np.max)\n",
        "    plt.figure(figsize=(12, 4))\n",
        "    librosa.display.specshow(log_S, sr=sr, x_axis='time', y_axis='mel')\n",
        "    plt.colorbar(format='%+02.0f dB')\n",
        "    plt.tight_layout()\n",
        "    plt.savefig(save_path)\n",
        "    plt.close()"
      ]
    },
    {
      "cell_type": "code",
      "execution_count": null,
      "metadata": {
        "id": "msQvXrVVr-8C"
      },
      "outputs": [],
      "source": [
        "from PIL import Image\n",
        "from pathlib import Path\n",
        "\n",
        "LEFT = 80\n",
        "TOP = 21\n",
        "RIGHT = 964\n",
        "BOTTOM = 343\n",
        "\n",
        "def process_audio(input_file, output_spectrogram_dir, bird_class):\n",
        "    y, sr = reduce_noise(input_file)\n",
        "    active_regions = detect_active_regions(y, sr)\n",
        "\n",
        "    base_file_name = Path(input_file).stem\n",
        "    p = Path(os.path.join(output_spectrogram_dir, bird_class))\n",
        "    if not p.exists():\n",
        "        p.mkdir()\n",
        "\n",
        "    if not active_regions:\n",
        "        print(\"No active regions detected.\")\n",
        "        return\n",
        "\n",
        "    for i, (start_time, end_time) in enumerate(active_regions):\n",
        "        start_sample = librosa.time_to_samples(start_time, sr=sr)\n",
        "        end_sample = librosa.time_to_samples(end_time, sr=sr)\n",
        "\n",
        "        if start_sample is not None and end_sample is not None:\n",
        "            #output_spectrogram_path = f\"{output_spectrogram_dir}/spectrogram_{i+1}.png\"\n",
        "            output_spectrogram_path = os.path.join(output_spectrogram_dir, bird_class, f\"{base_file_name}_{i+1}.png\")\n",
        "            generate_spectrogram(y[start_sample:end_sample], sr, output_spectrogram_path)\n",
        "            # also crop and save\n",
        "            img = Image.open(output_spectrogram_path)\n",
        "            crop_img = img.crop((LEFT, TOP, RIGHT, BOTTOM))\n",
        "            #crop_img.save(f\"{output_spectrogram_dir}/crop_spectrogram_{i+1}.png\", 'PNG')\n",
        "            crop_img.save(output_spectrogram_path, 'PNG')\n",
        "#             print(f\"Spectrogram {i+1} saved as {output_spectrogram_path}\")\n",
        "        else:\n",
        "            print(f\"Skipping spectrogram {i+1} due to insufficient active audio.\")\n"
      ]
    },
    {
      "cell_type": "code",
      "execution_count": null,
      "metadata": {
        "id": "casEaMAjsDiW"
      },
      "outputs": [],
      "source": [
        "import os\n",
        "\n",
        "AUDIO_PATH = f'{BASE_PATH}/train_audio'\n",
        "from multiprocess import Pool\n",
        "\n",
        "\n",
        "def pre_process_audio(params):\n",
        "    index, df_meta, output_path = params\n",
        "    label = df_meta.loc[index, 'primary_label']\n",
        "    file_name = df_meta.loc[index, 'filename']\n",
        "    file_path = os.path.join(AUDIO_PATH, file_name)\n",
        "    process_audio(file_path, output_path, label)\n",
        "\n",
        "def pre_process(df_meta, output_path):\n",
        "    idxs = list(range(len(df_meta)))\n",
        "    params = []\n",
        "    for idx in idxs:\n",
        "        params.append((idx, df_meta, output_path))\n",
        "\n",
        "    with Pool(processes=os.cpu_count()) as pool:\n",
        "        results = pool.map(pre_process_audio, params)\n",
        "\n",
        "\n",
        "\n",
        "train_output_path = os.path.join(BASE_PATH, 'prep_data', 'train')\n",
        "test_output_path = os.path.join(BASE_PATH, 'prep_data', 'test')\n",
        "val_output_path = os.path.join(BASE_PATH, 'prep_data','val')"
      ]
    },
    {
      "cell_type": "code",
      "execution_count": null,
      "metadata": {
        "id": "7O14d1s_GQxq",
        "outputId": "aad28936-de9c-4734-cd25-ebe8678f6e3c"
      },
      "outputs": [
        {
          "name": "stdout",
          "output_type": "stream",
          "text": [
            "No active regions detected.\n",
            "No active regions detected.\n",
            "No active regions detected.\n",
            "No active regions detected.\n",
            "No active regions detected.\n",
            "No active regions detected.\n",
            "No active regions detected.\n",
            "No active regions detected.\n",
            "No active regions detected.\n",
            "No active regions detected.\n",
            "No active regions detected.\n",
            "No active regions detected.\n",
            "No active regions detected.\n",
            "No active regions detected.\n",
            "No active regions detected.\n",
            "No active regions detected.\n",
            "No active regions detected.\n",
            "No active regions detected.\n",
            "No active regions detected.\n",
            "No active regions detected.\n",
            "No active regions detected.\n",
            "No active regions detected.\n",
            "No active regions detected.\n",
            "No active regions detected.\n",
            "No active regions detected.\n",
            "No active regions detected.\n",
            "No active regions detected.\n",
            "No active regions detected.\n",
            "No active regions detected.\n",
            "No active regions detected.\n",
            "No active regions detected.\n",
            "No active regions detected.\n",
            "No active regions detected.\n",
            "No active regions detected.\n",
            "No active regions detected.\n",
            "No active regions detected.\n",
            "No active regions detected.\n",
            "No active regions detected.\n",
            "No active regions detected.\n",
            "No active regions detected.\n",
            "No active regions detected.\n",
            "No active regions detected.\n",
            "No active regions detected.\n",
            "No active regions detected.\n",
            "No active regions detected.\n",
            "No active regions detected.\n",
            "No active regions detected.\n",
            "No active regions detected.\n",
            "No active regions detected.\n",
            "No active regions detected.\n",
            "No active regions detected.\n",
            "No active regions detected.\n",
            "No active regions detected.\n",
            "No active regions detected.\n",
            "No active regions detected.\n",
            "No active regions detected.\n",
            "No active regions detected.\n",
            "No active regions detected.\n",
            "No active regions detected.\n",
            "No active regions detected.\n",
            "No active regions detected.\n",
            "No active regions detected.\n"
          ]
        }
      ],
      "source": [
        "pre_process(final_train_df, train_output_path)"
      ]
    },
    {
      "cell_type": "code",
      "execution_count": null,
      "metadata": {
        "colab": {
          "base_uri": "https://localhost:8080/",
          "height": 524
        },
        "id": "6v4MFoB_sqz_",
        "outputId": "ac9accf2-49ff-4074-e80b-f9bf98a3ea8d"
      },
      "outputs": [
        {
          "name": "stdout",
          "output_type": "stream",
          "text": [
            "No active regions detected.\n",
            "No active regions detected.\n",
            "No active regions detected.\n",
            "No active regions detected.\n",
            "No active regions detected.\n",
            "No active regions detected.\n",
            "No active regions detected.\n",
            "No active regions detected.\n",
            "No active regions detected.\n",
            "No active regions detected.\n",
            "No active regions detected.\n",
            "No active regions detected.\n",
            "No active regions detected.\n",
            "No active regions detected.\n",
            "No active regions detected.\n",
            "No active regions detected.\n",
            "No active regions detected.\n",
            "No active regions detected.\n",
            "No active regions detected.\n",
            "No active regions detected.\n",
            "No active regions detected.\n",
            "No active regions detected.\n",
            "No active regions detected.\n",
            "No active regions detected.\n",
            "No active regions detected.\n"
          ]
        },
        {
          "name": "stderr",
          "output_type": "stream",
          "text": [
            "/Users/tiru/anaconda3/lib/python3.10/multiprocessing/resource_tracker.py:224: UserWarning: resource_tracker: There appear to be 1 leaked semaphore objects to clean up at shutdown\n",
            "  warnings.warn('resource_tracker: There appear to be %d '\n",
            "/Users/tiru/anaconda3/lib/python3.10/multiprocessing/resource_tracker.py:224: UserWarning: resource_tracker: There appear to be 1 leaked semaphore objects to clean up at shutdown\n",
            "  warnings.warn('resource_tracker: There appear to be %d '\n",
            "/Users/tiru/anaconda3/lib/python3.10/multiprocessing/resource_tracker.py:224: UserWarning: resource_tracker: There appear to be 1 leaked semaphore objects to clean up at shutdown\n",
            "  warnings.warn('resource_tracker: There appear to be %d '\n",
            "/Users/tiru/anaconda3/lib/python3.10/multiprocessing/resource_tracker.py:224: UserWarning: resource_tracker: There appear to be 1 leaked semaphore objects to clean up at shutdown\n",
            "  warnings.warn('resource_tracker: There appear to be %d '\n",
            "/Users/tiru/anaconda3/lib/python3.10/multiprocessing/resource_tracker.py:224: UserWarning: resource_tracker: There appear to be 1 leaked semaphore objects to clean up at shutdown\n",
            "  warnings.warn('resource_tracker: There appear to be %d '\n",
            "/Users/tiru/anaconda3/lib/python3.10/multiprocessing/resource_tracker.py:224: UserWarning: resource_tracker: There appear to be 1 leaked semaphore objects to clean up at shutdown\n",
            "  warnings.warn('resource_tracker: There appear to be %d '\n",
            "/Users/tiru/anaconda3/lib/python3.10/multiprocessing/resource_tracker.py:224: UserWarning: resource_tracker: There appear to be 1 leaked semaphore objects to clean up at shutdown\n",
            "  warnings.warn('resource_tracker: There appear to be %d '\n",
            "/Users/tiru/anaconda3/lib/python3.10/multiprocessing/resource_tracker.py:224: UserWarning: resource_tracker: There appear to be 1 leaked semaphore objects to clean up at shutdown\n",
            "  warnings.warn('resource_tracker: There appear to be %d '\n"
          ]
        }
      ],
      "source": [
        "pre_process(final_test_df, test_output_path)"
      ]
    },
    {
      "cell_type": "code",
      "execution_count": null,
      "metadata": {
        "id": "L5TkuzDDtjin",
        "outputId": "a68430fb-c7df-4d41-fb23-3affd7dfa0e9"
      },
      "outputs": [
        {
          "name": "stdout",
          "output_type": "stream",
          "text": [
            "No active regions detected.\n",
            "No active regions detected.\n",
            "No active regions detected.\n",
            "No active regions detected.\n",
            "No active regions detected.\n",
            "No active regions detected.\n",
            "No active regions detected.\n",
            "No active regions detected.\n",
            "No active regions detected.\n",
            "No active regions detected.\n",
            "No active regions detected.\n",
            "No active regions detected.\n",
            "No active regions detected.\n",
            "No active regions detected.\n",
            "No active regions detected.\n",
            "No active regions detected.\n",
            "No active regions detected.\n",
            "No active regions detected.\n",
            "No active regions detected.\n",
            "No active regions detected.\n",
            "No active regions detected.\n",
            "No active regions detected.\n",
            "No active regions detected.\n"
          ]
        },
        {
          "name": "stderr",
          "output_type": "stream",
          "text": [
            "/Users/tiru/anaconda3/lib/python3.10/multiprocessing/resource_tracker.py:224: UserWarning: resource_tracker: There appear to be 1 leaked semaphore objects to clean up at shutdown\n",
            "  warnings.warn('resource_tracker: There appear to be %d '\n",
            "/Users/tiru/anaconda3/lib/python3.10/multiprocessing/resource_tracker.py:224: UserWarning: resource_tracker: There appear to be 1 leaked semaphore objects to clean up at shutdown\n",
            "  warnings.warn('resource_tracker: There appear to be %d '\n",
            "/Users/tiru/anaconda3/lib/python3.10/multiprocessing/resource_tracker.py:224: UserWarning: resource_tracker: There appear to be 1 leaked semaphore objects to clean up at shutdown\n",
            "  warnings.warn('resource_tracker: There appear to be %d '\n",
            "/Users/tiru/anaconda3/lib/python3.10/multiprocessing/resource_tracker.py:224: UserWarning: resource_tracker: There appear to be 1 leaked semaphore objects to clean up at shutdown\n",
            "  warnings.warn('resource_tracker: There appear to be %d '\n",
            "/Users/tiru/anaconda3/lib/python3.10/multiprocessing/resource_tracker.py:224: UserWarning: resource_tracker: There appear to be 1 leaked semaphore objects to clean up at shutdown\n",
            "  warnings.warn('resource_tracker: There appear to be %d '\n",
            "/Users/tiru/anaconda3/lib/python3.10/multiprocessing/resource_tracker.py:224: UserWarning: resource_tracker: There appear to be 1 leaked semaphore objects to clean up at shutdown\n",
            "  warnings.warn('resource_tracker: There appear to be %d '\n",
            "/Users/tiru/anaconda3/lib/python3.10/multiprocessing/resource_tracker.py:224: UserWarning: resource_tracker: There appear to be 1 leaked semaphore objects to clean up at shutdown\n",
            "  warnings.warn('resource_tracker: There appear to be %d '\n",
            "/Users/tiru/anaconda3/lib/python3.10/multiprocessing/resource_tracker.py:224: UserWarning: resource_tracker: There appear to be 1 leaked semaphore objects to clean up at shutdown\n",
            "  warnings.warn('resource_tracker: There appear to be %d '\n"
          ]
        }
      ],
      "source": [
        "pre_process(final_val_df, val_output_path)"
      ]
    }
  ],
  "metadata": {
    "accelerator": "GPU",
    "colab": {
      "gpuType": "T4",
      "provenance": [],
      "include_colab_link": true
    },
    "kernelspec": {
      "display_name": "Python 3 (ipykernel)",
      "language": "python",
      "name": "python3"
    },
    "language_info": {
      "codemirror_mode": {
        "name": "ipython",
        "version": 3
      },
      "file_extension": ".py",
      "mimetype": "text/x-python",
      "name": "python",
      "nbconvert_exporter": "python",
      "pygments_lexer": "ipython3",
      "version": "3.11.5"
    }
  },
  "nbformat": 4,
  "nbformat_minor": 0
}