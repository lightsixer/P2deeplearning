{
  "nbformat": 4,
  "nbformat_minor": 0,
  "metadata": {
    "colab": {
      "provenance": [],
      "gpuType": "T4"
    },
    "kernelspec": {
      "name": "python3",
      "display_name": "Python 3"
    },
    "language_info": {
      "name": "python"
    },
    "accelerator": "GPU"
  },
  "cells": [
    {
      "cell_type": "code",
      "source": [
        "#CSCE 5214 Random Selection Deep Learning\n",
        "#this notebook is partly based on information from this link https://www.kaggle.com/code/virajkadam/birdclef-bird-sound-classification#4.-Load-training-samples\n",
        "!pip install noisereduce"
      ],
      "metadata": {
        "id": "bJwbe6MOi9gG",
        "colab": {
          "base_uri": "https://localhost:8080/"
        },
        "outputId": "f2a825dc-c21c-4bf1-ecc9-9dd0b26e9ff4"
      },
      "execution_count": 30,
      "outputs": [
        {
          "output_type": "stream",
          "name": "stdout",
          "text": [
            "Requirement already satisfied: noisereduce in /usr/local/lib/python3.10/dist-packages (3.0.0)\n",
            "Requirement already satisfied: scipy in /usr/local/lib/python3.10/dist-packages (from noisereduce) (1.11.3)\n",
            "Requirement already satisfied: matplotlib in /usr/local/lib/python3.10/dist-packages (from noisereduce) (3.7.1)\n",
            "Requirement already satisfied: librosa in /usr/local/lib/python3.10/dist-packages (from noisereduce) (0.10.1)\n",
            "Requirement already satisfied: numpy in /usr/local/lib/python3.10/dist-packages (from noisereduce) (1.23.5)\n",
            "Requirement already satisfied: tqdm in /usr/local/lib/python3.10/dist-packages (from noisereduce) (4.66.1)\n",
            "Requirement already satisfied: audioread>=2.1.9 in /usr/local/lib/python3.10/dist-packages (from librosa->noisereduce) (3.0.1)\n",
            "Requirement already satisfied: scikit-learn>=0.20.0 in /usr/local/lib/python3.10/dist-packages (from librosa->noisereduce) (1.2.2)\n",
            "Requirement already satisfied: joblib>=0.14 in /usr/local/lib/python3.10/dist-packages (from librosa->noisereduce) (1.3.2)\n",
            "Requirement already satisfied: decorator>=4.3.0 in /usr/local/lib/python3.10/dist-packages (from librosa->noisereduce) (4.4.2)\n",
            "Requirement already satisfied: numba>=0.51.0 in /usr/local/lib/python3.10/dist-packages (from librosa->noisereduce) (0.58.1)\n",
            "Requirement already satisfied: soundfile>=0.12.1 in /usr/local/lib/python3.10/dist-packages (from librosa->noisereduce) (0.12.1)\n",
            "Requirement already satisfied: pooch>=1.0 in /usr/local/lib/python3.10/dist-packages (from librosa->noisereduce) (1.8.0)\n",
            "Requirement already satisfied: soxr>=0.3.2 in /usr/local/lib/python3.10/dist-packages (from librosa->noisereduce) (0.3.7)\n",
            "Requirement already satisfied: typing-extensions>=4.1.1 in /usr/local/lib/python3.10/dist-packages (from librosa->noisereduce) (4.5.0)\n",
            "Requirement already satisfied: lazy-loader>=0.1 in /usr/local/lib/python3.10/dist-packages (from librosa->noisereduce) (0.3)\n",
            "Requirement already satisfied: msgpack>=1.0 in /usr/local/lib/python3.10/dist-packages (from librosa->noisereduce) (1.0.7)\n",
            "Requirement already satisfied: contourpy>=1.0.1 in /usr/local/lib/python3.10/dist-packages (from matplotlib->noisereduce) (1.2.0)\n",
            "Requirement already satisfied: cycler>=0.10 in /usr/local/lib/python3.10/dist-packages (from matplotlib->noisereduce) (0.12.1)\n",
            "Requirement already satisfied: fonttools>=4.22.0 in /usr/local/lib/python3.10/dist-packages (from matplotlib->noisereduce) (4.44.3)\n",
            "Requirement already satisfied: kiwisolver>=1.0.1 in /usr/local/lib/python3.10/dist-packages (from matplotlib->noisereduce) (1.4.5)\n",
            "Requirement already satisfied: packaging>=20.0 in /usr/local/lib/python3.10/dist-packages (from matplotlib->noisereduce) (23.2)\n",
            "Requirement already satisfied: pillow>=6.2.0 in /usr/local/lib/python3.10/dist-packages (from matplotlib->noisereduce) (9.4.0)\n",
            "Requirement already satisfied: pyparsing>=2.3.1 in /usr/local/lib/python3.10/dist-packages (from matplotlib->noisereduce) (3.1.1)\n",
            "Requirement already satisfied: python-dateutil>=2.7 in /usr/local/lib/python3.10/dist-packages (from matplotlib->noisereduce) (2.8.2)\n",
            "Requirement already satisfied: llvmlite<0.42,>=0.41.0dev0 in /usr/local/lib/python3.10/dist-packages (from numba>=0.51.0->librosa->noisereduce) (0.41.1)\n",
            "Requirement already satisfied: platformdirs>=2.5.0 in /usr/local/lib/python3.10/dist-packages (from pooch>=1.0->librosa->noisereduce) (4.0.0)\n",
            "Requirement already satisfied: requests>=2.19.0 in /usr/local/lib/python3.10/dist-packages (from pooch>=1.0->librosa->noisereduce) (2.31.0)\n",
            "Requirement already satisfied: six>=1.5 in /usr/local/lib/python3.10/dist-packages (from python-dateutil>=2.7->matplotlib->noisereduce) (1.16.0)\n",
            "Requirement already satisfied: threadpoolctl>=2.0.0 in /usr/local/lib/python3.10/dist-packages (from scikit-learn>=0.20.0->librosa->noisereduce) (3.2.0)\n",
            "Requirement already satisfied: cffi>=1.0 in /usr/local/lib/python3.10/dist-packages (from soundfile>=0.12.1->librosa->noisereduce) (1.16.0)\n",
            "Requirement already satisfied: pycparser in /usr/local/lib/python3.10/dist-packages (from cffi>=1.0->soundfile>=0.12.1->librosa->noisereduce) (2.21)\n",
            "Requirement already satisfied: charset-normalizer<4,>=2 in /usr/local/lib/python3.10/dist-packages (from requests>=2.19.0->pooch>=1.0->librosa->noisereduce) (3.3.2)\n",
            "Requirement already satisfied: idna<4,>=2.5 in /usr/local/lib/python3.10/dist-packages (from requests>=2.19.0->pooch>=1.0->librosa->noisereduce) (3.4)\n",
            "Requirement already satisfied: urllib3<3,>=1.21.1 in /usr/local/lib/python3.10/dist-packages (from requests>=2.19.0->pooch>=1.0->librosa->noisereduce) (2.0.7)\n",
            "Requirement already satisfied: certifi>=2017.4.17 in /usr/local/lib/python3.10/dist-packages (from requests>=2.19.0->pooch>=1.0->librosa->noisereduce) (2023.7.22)\n"
          ]
        }
      ]
    },
    {
      "cell_type": "code",
      "source": [
        "from google.colab import drive\n",
        "drive.mount('/content/drive')"
      ],
      "metadata": {
        "colab": {
          "base_uri": "https://localhost:8080/"
        },
        "id": "UYuG83jsjMhe",
        "outputId": "a0639adb-09f6-4ab5-9662-c10c7360c3d3"
      },
      "execution_count": 31,
      "outputs": [
        {
          "output_type": "stream",
          "name": "stdout",
          "text": [
            "Drive already mounted at /content/drive; to attempt to forcibly remount, call drive.mount(\"/content/drive\", force_remount=True).\n"
          ]
        }
      ]
    },
    {
      "cell_type": "code",
      "execution_count": 32,
      "metadata": {
        "id": "vRcN3aEdioi4"
      },
      "outputs": [],
      "source": [
        "import noisereduce as nr\n",
        "import librosa\n",
        "import librosa.display\n",
        "import numpy as np\n",
        "import matplotlib.pyplot as plt\n",
        "from keras.preprocessing.image import ImageDataGenerator"
      ]
    },
    {
      "cell_type": "code",
      "source": [
        "from tensorflow.keras.preprocessing.image import ImageDataGenerator\n",
        "\n",
        "train_directory = '/content/drive/MyDrive/P2_DeepLearning/birdclef-2023/random10_prep_data/train' #paths to directories with the spectrographs\n",
        "validation_directory = '/content/drive/MyDrive/P2_DeepLearning/birdclef-2023/random10_prep_data/test'\n",
        "\n",
        "#train_directory = r'/content/drive/MyDrive/P2_DeepLearning/birdclef-2023.zip (Unzipped Files)/random10_prep_data/train'\n",
        "#validation_directory = r'/content/drive/MyDrive/P2_DeepLearning/birdclef-2023.zip (Unzipped Files)/random10_prep_data/test'\n",
        "\n",
        "#reserved_directory = '/content/drive/MyDrive/P2_DeepLearning/birdclef-2023.zip (Unzipped Files)/random10_prep_data/reserved'\n",
        "\n",
        "batchSize = 8\n",
        "\n",
        "# Image dimensions\n",
        "img_width, img_height = 322, 884\n",
        "train_datagen = ImageDataGenerator(rescale=1./255) #divides for scaling\n",
        "validation_datagen = ImageDataGenerator(rescale=1./255)\n",
        "reserved_datagen = ImageDataGenerator(rescale=1./255)\n",
        "\n",
        "train_generator = train_datagen.flow_from_directory( #loads images for training/validation\n",
        "    #train_directory,\n",
        "    directory = train_directory,\n",
        "    target_size=(img_height, img_width),\n",
        "    color_mode = \"grayscale\",\n",
        "    batch_size = batchSize,\n",
        "    class_mode='categorical',\n",
        "    shuffle = True,\n",
        "    seed = 91825)\n",
        "\n",
        "validation_generator = validation_datagen.flow_from_directory(\n",
        "    #validation_directory,\n",
        "    directory = validation_directory,\n",
        "    target_size=(img_height, img_width),\n",
        "    color_mode = \"grayscale\",\n",
        "    batch_size = batchSize,\n",
        "    class_mode='categorical',\n",
        "    shuffle = True,\n",
        "    seed = 18232)\n"
      ],
      "metadata": {
        "id": "i8ccaVL2mOch",
        "colab": {
          "base_uri": "https://localhost:8080/"
        },
        "outputId": "d1c84dda-8a94-4e02-c9ee-a34216738e76"
      },
      "execution_count": 35,
      "outputs": [
        {
          "output_type": "stream",
          "name": "stdout",
          "text": [
            "Found 1836 images belonging to 10 classes.\n",
            "Found 572 images belonging to 10 classes.\n"
          ]
        }
      ]
    },
    {
      "cell_type": "code",
      "source": [
        "import tensorflow as tf\n",
        "from tensorflow.keras.models import Sequential\n",
        "from tensorflow.keras.layers import Conv2D, MaxPooling2D, Flatten, Dense, Dropout\n",
        "from tensorflow import keras\n",
        "# Define the CNN model\n",
        "model = Sequential()\n",
        "\n",
        "# Convolutional layer with 32 filters, a kernel size of 3x3, and ReLU activation\n",
        "model.add(Conv2D(32, (3, 3), activation='relu', input_shape=(322, 884, 1) ) )\n",
        "model.add(MaxPooling2D((2, 2)))\n",
        "\n",
        "# Adding another convolutional layer\n",
        "model.add(Conv2D(64, (3, 3), activation='relu'))\n",
        "model.add(MaxPooling2D((5, 5)))\n",
        "\n",
        "#model.add(Conv2D(64, (5, 5), activation='relu'))\n",
        "#model.add(MaxPooling2D((4, 4)))\n",
        "\n",
        "#Adding dropout layer to control overfitting\n",
        "model.add(Dropout(0.25))\n",
        "# Adding dense softmax layer\n",
        "model.add(Dense(128, activation='softmax'))\n",
        "\n",
        "# Adding layer with tanh acitvation function to improve accuracy\n",
        "model.add(Conv2D(128, (3, 3), activation='tanh'))\n",
        "#varying the size of the max pooling kernel has helepd the model\n",
        "model.add(MaxPooling2D((4, 4)))\n",
        "\n",
        "# Flatten the output of the convolutional layers\n",
        "model.add(Flatten())\n",
        "\n",
        "# Fully connected layer with 128 units and ReLU activation\n",
        "model.add(Dense(128, activation='relu'))\n",
        "\n",
        "#several layers added\n",
        "\n",
        "\n",
        "# Dropout for regularization\n",
        "model.add(Dropout(0.15))\n",
        "\n",
        "# Output layer with a unit for each class and softmax activation\n",
        "model.add(Dense(10, activation='softmax'))\n",
        "\n",
        "# Compile the model\n",
        "\n",
        "#opti = keras.optimizers.Adam(learning_rate = 0.02)\n",
        "model.compile( optimizer = 'adam',#optimizer = opti,\n",
        "              loss='categorical_crossentropy',\n",
        "              metrics=['accuracy'])\n",
        "\n",
        "# Model summary\n",
        "model.summary()\n"
      ],
      "metadata": {
        "id": "xgttOyIW0yIS",
        "colab": {
          "base_uri": "https://localhost:8080/"
        },
        "outputId": "9f4ca26a-2572-44e1-90b5-f1c33b5b02f3"
      },
      "execution_count": 36,
      "outputs": [
        {
          "output_type": "stream",
          "name": "stdout",
          "text": [
            "Model: \"sequential_3\"\n",
            "_________________________________________________________________\n",
            " Layer (type)                Output Shape              Param #   \n",
            "=================================================================\n",
            " conv2d_9 (Conv2D)           (None, 320, 882, 32)      320       \n",
            "                                                                 \n",
            " max_pooling2d_9 (MaxPoolin  (None, 160, 441, 32)      0         \n",
            " g2D)                                                            \n",
            "                                                                 \n",
            " conv2d_10 (Conv2D)          (None, 158, 439, 64)      18496     \n",
            "                                                                 \n",
            " max_pooling2d_10 (MaxPooli  (None, 31, 87, 64)        0         \n",
            " ng2D)                                                           \n",
            "                                                                 \n",
            " dropout_6 (Dropout)         (None, 31, 87, 64)        0         \n",
            "                                                                 \n",
            " dense_9 (Dense)             (None, 31, 87, 128)       8320      \n",
            "                                                                 \n",
            " conv2d_11 (Conv2D)          (None, 29, 85, 128)       147584    \n",
            "                                                                 \n",
            " max_pooling2d_11 (MaxPooli  (None, 7, 21, 128)        0         \n",
            " ng2D)                                                           \n",
            "                                                                 \n",
            " flatten_3 (Flatten)         (None, 18816)             0         \n",
            "                                                                 \n",
            " dense_10 (Dense)            (None, 128)               2408576   \n",
            "                                                                 \n",
            " dropout_7 (Dropout)         (None, 128)               0         \n",
            "                                                                 \n",
            " dense_11 (Dense)            (None, 10)                1290      \n",
            "                                                                 \n",
            "=================================================================\n",
            "Total params: 2584586 (9.86 MB)\n",
            "Trainable params: 2584586 (9.86 MB)\n",
            "Non-trainable params: 0 (0.00 Byte)\n",
            "_________________________________________________________________\n"
          ]
        }
      ]
    },
    {
      "cell_type": "code",
      "source": [
        "# Train the model\n",
        "\n",
        "fitModel = model.fit(\n",
        "    train_generator,\n",
        "    steps_per_epoch = train_generator.samples // batchSize,\n",
        "    epochs = 25,\n",
        "    validation_data=validation_generator,\n",
        "    validation_steps=validation_generator.samples // batchSize)\n"
      ],
      "metadata": {
        "id": "ACV1mVyuxcvy",
        "colab": {
          "base_uri": "https://localhost:8080/"
        },
        "outputId": "88b021dc-4db5-4754-c927-691486184423"
      },
      "execution_count": 37,
      "outputs": [
        {
          "output_type": "stream",
          "name": "stdout",
          "text": [
            "Epoch 1/25\n",
            "229/229 [==============================] - 35s 146ms/step - loss: 1.5130 - accuracy: 0.6171 - val_loss: 1.3308 - val_accuracy: 0.5915\n",
            "Epoch 2/25\n",
            "229/229 [==============================] - 34s 147ms/step - loss: 1.0061 - accuracy: 0.7002 - val_loss: 1.0927 - val_accuracy: 0.6426\n",
            "Epoch 3/25\n",
            "229/229 [==============================] - 29s 127ms/step - loss: 0.7681 - accuracy: 0.7664 - val_loss: 1.2824 - val_accuracy: 0.6831\n",
            "Epoch 4/25\n",
            "229/229 [==============================] - 30s 132ms/step - loss: 0.5819 - accuracy: 0.8085 - val_loss: 1.5109 - val_accuracy: 0.6778\n",
            "Epoch 5/25\n",
            "229/229 [==============================] - 33s 142ms/step - loss: 0.4279 - accuracy: 0.8523 - val_loss: 1.3169 - val_accuracy: 0.6866\n",
            "Epoch 6/25\n",
            "229/229 [==============================] - 29s 125ms/step - loss: 0.2955 - accuracy: 0.8944 - val_loss: 1.3857 - val_accuracy: 0.6972\n",
            "Epoch 7/25\n",
            "229/229 [==============================] - 30s 132ms/step - loss: 0.2218 - accuracy: 0.9245 - val_loss: 1.6197 - val_accuracy: 0.6919\n",
            "Epoch 8/25\n",
            "229/229 [==============================] - 34s 147ms/step - loss: 0.1684 - accuracy: 0.9404 - val_loss: 1.6291 - val_accuracy: 0.7025\n",
            "Epoch 9/25\n",
            "229/229 [==============================] - 34s 147ms/step - loss: 0.1365 - accuracy: 0.9535 - val_loss: 1.6985 - val_accuracy: 0.6901\n",
            "Epoch 10/25\n",
            "229/229 [==============================] - 33s 146ms/step - loss: 0.1093 - accuracy: 0.9633 - val_loss: 2.0736 - val_accuracy: 0.6989\n",
            "Epoch 11/25\n",
            "229/229 [==============================] - 35s 154ms/step - loss: 0.1103 - accuracy: 0.9623 - val_loss: 1.9482 - val_accuracy: 0.6954\n",
            "Epoch 12/25\n",
            "229/229 [==============================] - 33s 145ms/step - loss: 0.1008 - accuracy: 0.9672 - val_loss: 1.8481 - val_accuracy: 0.7007\n",
            "Epoch 13/25\n",
            "229/229 [==============================] - 34s 147ms/step - loss: 0.1185 - accuracy: 0.9540 - val_loss: 2.7291 - val_accuracy: 0.7148\n",
            "Epoch 14/25\n",
            "229/229 [==============================] - 29s 127ms/step - loss: 0.0615 - accuracy: 0.9776 - val_loss: 2.9799 - val_accuracy: 0.7130\n",
            "Epoch 15/25\n",
            "229/229 [==============================] - 34s 150ms/step - loss: 0.0570 - accuracy: 0.9830 - val_loss: 2.5957 - val_accuracy: 0.6884\n",
            "Epoch 16/25\n",
            "229/229 [==============================] - 35s 152ms/step - loss: 0.0474 - accuracy: 0.9819 - val_loss: 3.4243 - val_accuracy: 0.7007\n",
            "Epoch 17/25\n",
            "229/229 [==============================] - 29s 126ms/step - loss: 0.0741 - accuracy: 0.9776 - val_loss: 3.2077 - val_accuracy: 0.7148\n",
            "Epoch 18/25\n",
            "229/229 [==============================] - 28s 124ms/step - loss: 0.1519 - accuracy: 0.9508 - val_loss: 3.6194 - val_accuracy: 0.7077\n",
            "Epoch 19/25\n",
            "229/229 [==============================] - 28s 122ms/step - loss: 0.1139 - accuracy: 0.9699 - val_loss: 2.5605 - val_accuracy: 0.7113\n",
            "Epoch 20/25\n",
            "229/229 [==============================] - 26s 115ms/step - loss: 0.0870 - accuracy: 0.9770 - val_loss: 2.9031 - val_accuracy: 0.7113\n",
            "Epoch 21/25\n",
            "229/229 [==============================] - 29s 125ms/step - loss: 0.0621 - accuracy: 0.9792 - val_loss: 2.7478 - val_accuracy: 0.7218\n",
            "Epoch 22/25\n",
            "229/229 [==============================] - 32s 141ms/step - loss: 0.0698 - accuracy: 0.9787 - val_loss: 3.6818 - val_accuracy: 0.7007\n",
            "Epoch 23/25\n",
            "229/229 [==============================] - 28s 122ms/step - loss: 0.0724 - accuracy: 0.9781 - val_loss: 2.8939 - val_accuracy: 0.7148\n",
            "Epoch 24/25\n",
            "229/229 [==============================] - 27s 117ms/step - loss: 0.0460 - accuracy: 0.9863 - val_loss: 3.3352 - val_accuracy: 0.7254\n",
            "Epoch 25/25\n",
            "229/229 [==============================] - 29s 126ms/step - loss: 0.0278 - accuracy: 0.9923 - val_loss: 3.3249 - val_accuracy: 0.7148\n"
          ]
        }
      ]
    },
    {
      "cell_type": "code",
      "source": [
        "test_directory = '/content/drive/MyDrive/P2_DeepLearning/birdclef-2023/random10_prep_data/test'\n",
        "\n",
        "test_datagen = ImageDataGenerator(rescale=1./255, validation_split = 0.9625)\n",
        "\n",
        "test_generator = test_datagen.flow_from_directory(\n",
        "    directory = test_directory,\n",
        "    target_size=(img_height, img_width),\n",
        "    color_mode = \"grayscale\",\n",
        "    batch_size= batchSize,\n",
        "    class_mode='categorical',\n",
        "    subset = 'validation',\n",
        "    shuffle = False) #since it's test, don't set shuffle to true\n"
      ],
      "metadata": {
        "id": "cbG_fxkm2G_S",
        "colab": {
          "base_uri": "https://localhost:8080/"
        },
        "outputId": "90d96b37-906c-4010-9bcc-5e2f4b48b5d5"
      },
      "execution_count": 38,
      "outputs": [
        {
          "output_type": "stream",
          "name": "stdout",
          "text": [
            "Found 544 images belonging to 10 classes.\n"
          ]
        }
      ]
    },
    {
      "cell_type": "code",
      "source": [
        "test_loss, test_accuracy = model.evaluate(test_generator, steps=test_generator.samples // batchSize)\n",
        "print(\"Test accuracy:\", test_accuracy)\n",
        "print(\"Test loss:\", test_loss)\n"
      ],
      "metadata": {
        "id": "VUCFS91S2JeV",
        "colab": {
          "base_uri": "https://localhost:8080/"
        },
        "outputId": "3d4cab4c-c56d-4425-a305-bd712b2b3955"
      },
      "execution_count": 39,
      "outputs": [
        {
          "output_type": "stream",
          "name": "stdout",
          "text": [
            "68/68 [==============================] - 6s 86ms/step - loss: 3.3352 - accuracy: 0.7169\n",
            "Test accuracy: 0.716911792755127\n",
            "Test loss: 3.335244655609131\n"
          ]
        }
      ]
    },
    {
      "cell_type": "code",
      "source": [
        "from sklearn.metrics import classification_report, confusion_matrix\n",
        "import random\n",
        "# # Predict classes\n",
        "predictions = model.predict(test_generator, steps=test_generator.samples // batchSize)\n",
        "predicted_classes = np.argmax(predictions, axis=1)\n",
        "\n",
        "# # Get true labels\n",
        "#true_classes = random.sample(test_generator.classes, 544)\n",
        "true_classes = test_generator.classes\n",
        "#scores report\n",
        "report = classification_report(true_classes, predicted_classes, target_names=test_generator.class_indices.keys(), zero_division = 0)\n",
        "\n",
        "print(report)\n"
      ],
      "metadata": {
        "id": "86EkQOw62LxV",
        "colab": {
          "base_uri": "https://localhost:8080/"
        },
        "outputId": "b753de4e-0698-476c-bfe1-50c4df19b773"
      },
      "execution_count": 40,
      "outputs": [
        {
          "output_type": "stream",
          "name": "stdout",
          "text": [
            "68/68 [==============================] - 6s 79ms/step\n",
            "              precision    recall  f1-score   support\n",
            "\n",
            "     afbfly1       0.20      0.14      0.17        28\n",
            "     afdfly1       0.69      0.81      0.74        36\n",
            "     chespa1       0.20      1.00      0.33         1\n",
            "     chewea1       0.80      0.44      0.57         9\n",
            "     grywrw1       0.90      0.78      0.84        49\n",
            "     luebus1       0.69      0.65      0.67        31\n",
            "     nobfly1       0.54      0.20      0.29        35\n",
            "     rocmar2       0.21      0.31      0.25        26\n",
            "     somgre1       0.83      0.88      0.86       304\n",
            "     somtit4       0.39      0.44      0.42        25\n",
            "\n",
            "    accuracy                           0.72       544\n",
            "   macro avg       0.55      0.56      0.51       544\n",
            "weighted avg       0.72      0.72      0.71       544\n",
            "\n"
          ]
        }
      ]
    },
    {
      "cell_type": "code",
      "source": [
        "model.save('/content/drive/MyDrive/P2_DeepLearning/birdclef-2023/prep_data/RandomSelection_BirdPred.h5')"
      ],
      "metadata": {
        "colab": {
          "base_uri": "https://localhost:8080/"
        },
        "id": "YsAf72HA0ufI",
        "outputId": "03f7a6ed-7cca-4c1b-ce11-8093d29e4fb6"
      },
      "execution_count": 41,
      "outputs": [
        {
          "output_type": "stream",
          "name": "stderr",
          "text": [
            "/usr/local/lib/python3.10/dist-packages/keras/src/engine/training.py:3079: UserWarning: You are saving your model as an HDF5 file via `model.save()`. This file format is considered legacy. We recommend using instead the native Keras format, e.g. `model.save('my_model.keras')`.\n",
            "  saving_api.save_model(\n"
          ]
        }
      ]
    }
  ]
}